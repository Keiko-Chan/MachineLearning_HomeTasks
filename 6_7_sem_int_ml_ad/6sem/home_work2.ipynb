{
 "cells": [
  {
   "cell_type": "markdown",
   "id": "a17b492d",
   "metadata": {},
   "source": [
    "# Домашнее задание 2.\n",
    "\n",
    "- Влияние стандартизации признаков на модель линейной регрессии\n",
    "- Интерпретация модели линейной регрессии \n",
    "\n",
    "В качестве набора данных мы будем пользоваться данными о стоимости домов в King County, Wahington, USA. Перед вами стоит задача предсказания стоимости дома."
   ]
  },
  {
   "cell_type": "markdown",
   "id": "ff5ecfce",
   "metadata": {},
   "source": [
    "## 1. Обучите линейную модель\n",
    "\n",
    "1. Для обучения используйте только набор данных `kc_house_data_train.csv`, набором данных `kc_house_data_test.csv` вы воспользуетесь в самом конце для тестирования качества.\n",
    "\n",
    "2. Разбейте выборку `kc_house_data_train.csv` на тренировочную и валидационную в отношении 7:3. Используйте `sklearn.model_selection.train_test_split`. Исключите из рассмотрения столбцы `id`, `zipcode`, `lat`, `long`.\n",
    "\n",
    "3. Обучите линейную модель `sklearn.linear_model.LinearRegression` (с параметрами по умолчанию) на предсказание столбца `price`.  - Чему равно качество такой модели в терминах Mean Squared Error на тренировочной и валидационной выборке?\n",
    "- Какие признаки имеют наибольший положительный и отрицательный вес? Насколько это согласуется с вашей интуицией?\n"
   ]
  },
  {
   "cell_type": "code",
   "execution_count": 24,
   "id": "34bbf5c3",
   "metadata": {},
   "outputs": [],
   "source": [
    "import pandas as pd\n",
    "from sklearn.model_selection import train_test_split\n",
    "from sklearn.linear_model import LinearRegression\n",
    "from sklearn.metrics import confusion_matrix, precision_score, recall_score, accuracy_score\n",
    "import numpy as np\n",
    "from sklearn.metrics import mean_squared_error\n",
    "from sklearn.preprocessing import StandardScaler\n",
    "from sklearn.preprocessing import MinMaxScaler\n",
    "from sklearn.feature_selection import RFE"
   ]
  },
  {
   "cell_type": "code",
   "execution_count": 25,
   "id": "b5d8dde7",
   "metadata": {},
   "outputs": [],
   "source": [
    "pd.options.display.max_columns=30"
   ]
  },
  {
   "cell_type": "code",
   "execution_count": 26,
   "id": "f4ed5304",
   "metadata": {},
   "outputs": [
    {
     "data": {
      "text/html": [
       "<div>\n",
       "<style scoped>\n",
       "    .dataframe tbody tr th:only-of-type {\n",
       "        vertical-align: middle;\n",
       "    }\n",
       "\n",
       "    .dataframe tbody tr th {\n",
       "        vertical-align: top;\n",
       "    }\n",
       "\n",
       "    .dataframe thead th {\n",
       "        text-align: right;\n",
       "    }\n",
       "</style>\n",
       "<table border=\"1\" class=\"dataframe\">\n",
       "  <thead>\n",
       "    <tr style=\"text-align: right;\">\n",
       "      <th></th>\n",
       "      <th>id</th>\n",
       "      <th>date</th>\n",
       "      <th>price</th>\n",
       "      <th>bedrooms</th>\n",
       "      <th>bathrooms</th>\n",
       "      <th>sqft_living</th>\n",
       "      <th>sqft_lot</th>\n",
       "      <th>floors</th>\n",
       "      <th>waterfront</th>\n",
       "      <th>view</th>\n",
       "      <th>condition</th>\n",
       "      <th>grade</th>\n",
       "      <th>sqft_above</th>\n",
       "      <th>sqft_basement</th>\n",
       "      <th>yr_built</th>\n",
       "      <th>yr_renovated</th>\n",
       "      <th>zipcode</th>\n",
       "      <th>lat</th>\n",
       "      <th>long</th>\n",
       "      <th>sqft_living15</th>\n",
       "      <th>sqft_lot15</th>\n",
       "    </tr>\n",
       "  </thead>\n",
       "  <tbody>\n",
       "    <tr>\n",
       "      <th>21162</th>\n",
       "      <td>8691440440</td>\n",
       "      <td>20141003T000000</td>\n",
       "      <td>882990.0</td>\n",
       "      <td>4</td>\n",
       "      <td>3.50</td>\n",
       "      <td>3560</td>\n",
       "      <td>6562</td>\n",
       "      <td>2.0</td>\n",
       "      <td>0</td>\n",
       "      <td>0</td>\n",
       "      <td>3</td>\n",
       "      <td>10</td>\n",
       "      <td>3560</td>\n",
       "      <td>0</td>\n",
       "      <td>2014</td>\n",
       "      <td>0</td>\n",
       "      <td>98075</td>\n",
       "      <td>47.5929</td>\n",
       "      <td>-121.974</td>\n",
       "      <td>3710</td>\n",
       "      <td>6562</td>\n",
       "    </tr>\n",
       "    <tr>\n",
       "      <th>16877</th>\n",
       "      <td>2725069108</td>\n",
       "      <td>20140805T000000</td>\n",
       "      <td>750000.0</td>\n",
       "      <td>3</td>\n",
       "      <td>3.25</td>\n",
       "      <td>4610</td>\n",
       "      <td>81935</td>\n",
       "      <td>2.0</td>\n",
       "      <td>0</td>\n",
       "      <td>0</td>\n",
       "      <td>4</td>\n",
       "      <td>9</td>\n",
       "      <td>4610</td>\n",
       "      <td>0</td>\n",
       "      <td>1984</td>\n",
       "      <td>0</td>\n",
       "      <td>98074</td>\n",
       "      <td>47.6217</td>\n",
       "      <td>-122.021</td>\n",
       "      <td>2900</td>\n",
       "      <td>43500</td>\n",
       "    </tr>\n",
       "    <tr>\n",
       "      <th>16116</th>\n",
       "      <td>8026200080</td>\n",
       "      <td>20140715T000000</td>\n",
       "      <td>372000.0</td>\n",
       "      <td>4</td>\n",
       "      <td>1.75</td>\n",
       "      <td>1890</td>\n",
       "      <td>10550</td>\n",
       "      <td>1.0</td>\n",
       "      <td>0</td>\n",
       "      <td>0</td>\n",
       "      <td>5</td>\n",
       "      <td>7</td>\n",
       "      <td>1010</td>\n",
       "      <td>880</td>\n",
       "      <td>1969</td>\n",
       "      <td>0</td>\n",
       "      <td>98056</td>\n",
       "      <td>47.5147</td>\n",
       "      <td>-122.193</td>\n",
       "      <td>1930</td>\n",
       "      <td>7291</td>\n",
       "    </tr>\n",
       "  </tbody>\n",
       "</table>\n",
       "</div>"
      ],
      "text/plain": [
       "               id             date     price  bedrooms  bathrooms  \\\n",
       "21162  8691440440  20141003T000000  882990.0         4       3.50   \n",
       "16877  2725069108  20140805T000000  750000.0         3       3.25   \n",
       "16116  8026200080  20140715T000000  372000.0         4       1.75   \n",
       "\n",
       "       sqft_living  sqft_lot  floors  waterfront  view  condition  grade  \\\n",
       "21162         3560      6562     2.0           0     0          3     10   \n",
       "16877         4610     81935     2.0           0     0          4      9   \n",
       "16116         1890     10550     1.0           0     0          5      7   \n",
       "\n",
       "       sqft_above  sqft_basement  yr_built  yr_renovated  zipcode      lat  \\\n",
       "21162        3560              0      2014             0    98075  47.5929   \n",
       "16877        4610              0      1984             0    98074  47.6217   \n",
       "16116        1010            880      1969             0    98056  47.5147   \n",
       "\n",
       "          long  sqft_living15  sqft_lot15  \n",
       "21162 -121.974           3710        6562  \n",
       "16877 -122.021           2900       43500  \n",
       "16116 -122.193           1930        7291  "
      ]
     },
     "execution_count": 26,
     "metadata": {},
     "output_type": "execute_result"
    }
   ],
   "source": [
    "fd = pd.read_csv('kc_house_data_train.csv', index_col=0)\n",
    "fd_test = pd.read_csv('kc_house_data_test.csv', index_col=0)\n",
    "\n",
    "pd.read_csv('kc_house_data_train.csv', index_col=0).head(3)"
   ]
  },
  {
   "cell_type": "code",
   "execution_count": 52,
   "id": "f550a3a2",
   "metadata": {
    "scrolled": true
   },
   "outputs": [
    {
     "name": "stdout",
     "output_type": "stream",
     "text": [
      "       bedrooms  bathrooms  sqft_living  sqft_lot  floors  waterfront  view  \\\n",
      "21162         4       3.50         3560      6562     2.0           0     0   \n",
      "16877         3       3.25         4610     81935     2.0           0     0   \n",
      "16116         4       1.75         1890     10550     1.0           0     0   \n",
      "9557          2       1.00          840      5510     1.0           0     0   \n",
      "16302         4       3.50         5550     28078     2.0           0     2   \n",
      "...         ...        ...          ...       ...     ...         ...   ...   \n",
      "20147         3       1.50         1420      1192     2.0           0     0   \n",
      "8294          4       3.25         2885     33671     2.0           0     0   \n",
      "10406         5       2.25         3260      7969     2.0           0     0   \n",
      "6701          4       2.50         3100     10000     2.0           0     0   \n",
      "14811         4       3.00         2570      4000     2.0           0     0   \n",
      "\n",
      "       condition  grade  sqft_above  sqft_basement  yr_built  yr_renovated  \\\n",
      "21162          3     10        3560              0      2014             0   \n",
      "16877          4      9        4610              0      1984             0   \n",
      "16116          5      7        1010            880      1969             0   \n",
      "9557           3      7         840              0      1955             0   \n",
      "16302          4     12        3350           2200      2000             0   \n",
      "...          ...    ...         ...            ...       ...           ...   \n",
      "20147          3      8        1140            280      2008             0   \n",
      "8294           4      8        2885              0      1984             0   \n",
      "10406          4      8        3260              0      1982             0   \n",
      "6701           3      9        3100              0      1978             0   \n",
      "14811          3      8        1750            820      1909          2014   \n",
      "\n",
      "       sqft_living15  sqft_lot15  \n",
      "21162           3710        6562  \n",
      "16877           2900       43500  \n",
      "16116           1930        7291  \n",
      "9557            1630        5510  \n",
      "16302           2980       19602  \n",
      "...              ...         ...  \n",
      "20147           1340        1213  \n",
      "8294            1910       16000  \n",
      "10406           2070        7962  \n",
      "6701            1850        9438  \n",
      "14811           1970        4000  \n",
      "\n",
      "[14480 rows x 15 columns]\n",
      "-82932.38430029899\n",
      "-93148.79069905821\n",
      "-60605.329394995235\n",
      "-50272.42527833767\n",
      "-90793.43898081966\n",
      "-20943.242483825423\n",
      "-70005.38108133152\n",
      "-32306.626326061785\n",
      "-5372.132499055937\n",
      "-145490.46500853915\n",
      "-91820.60879646521\n"
     ]
    }
   ],
   "source": [
    "X = pd.DataFrame()\n",
    "x_test = pd.DataFrame()\n",
    "\n",
    "for i in fd:\n",
    "    if(i != 'price' and i != 'lat' and i != 'long' and i != 'zipcode' and i != 'date' and i != 'id'):\n",
    "        X[i] = fd[i]\n",
    "        x_test[i] = fd_test[i]\n",
    "        \n",
    "print(X)\n",
    "        \n",
    "Y = fd['price']\n",
    "y_test = fd_test['price']\n",
    "\n",
    "x_train, x_valid, y_train, y_valid = train_test_split(X, Y, train_size=0.7, random_state=5)\n",
    "\n",
    "model = LinearRegression()\n",
    "model.fit(x_train, y_train)\n",
    "\n",
    "y_valid_pred = model.predict(x_valid)\n",
    "y_train_pred = model.predict(x_train)\n",
    "y_test_pred = model.predict(x_test)\n",
    "   \n",
    "for i in y_valid_pred:\n",
    "    if i < 0:\n",
    "       print(i) "
   ]
  },
  {
   "cell_type": "code",
   "execution_count": 53,
   "id": "c2c07e71",
   "metadata": {},
   "outputs": [
    {
     "data": {
      "text/plain": [
       "44600692064.984795"
      ]
     },
     "execution_count": 53,
     "metadata": {},
     "output_type": "execute_result"
    }
   ],
   "source": [
    "mean_squared_error(y_valid, y_valid_pred)"
   ]
  },
  {
   "cell_type": "code",
   "execution_count": 54,
   "id": "3b6b3496",
   "metadata": {},
   "outputs": [
    {
     "data": {
      "text/plain": [
       "47752321019.68232"
      ]
     },
     "execution_count": 54,
     "metadata": {},
     "output_type": "execute_result"
    }
   ],
   "source": [
    "mean_squared_error(y_train, y_train_pred)"
   ]
  },
  {
   "cell_type": "code",
   "execution_count": 55,
   "id": "a077b393",
   "metadata": {},
   "outputs": [
    {
     "name": "stdout",
     "output_type": "stream",
     "text": [
      "[-3.93924030e+04  6.04054791e+04  1.06575446e+02 -7.80530689e-02\n",
      "  1.83254462e+04  5.43770594e+05  4.51696252e+04  1.47774083e+04\n",
      "  1.19568462e+05  5.33640781e+01  5.32113679e+01 -3.72072629e+03\n",
      "  8.13790238e-01  2.24754267e+01 -4.32520474e-01]\n",
      "[7.24430548e-02 1.11086329e-01 1.95993396e-04 1.43540437e-07\n",
      " 3.37006937e-02 1.00000000e+00 8.30674290e-02 2.71758136e-02\n",
      " 2.19887693e-01 9.81371163e-05 9.78562806e-05 6.84245586e-03\n",
      " 1.49656904e-06 4.13325526e-05 7.95409827e-07]\n"
     ]
    }
   ],
   "source": [
    "model = LinearRegression()\n",
    "model.fit(x_train, y_train)\n",
    "print(model.coef_)\n",
    "abscoef = abs(model.coef_)\n",
    "print(abscoef/abscoef.max())"
   ]
  },
  {
   "cell_type": "markdown",
   "id": "d3e41bb0",
   "metadata": {},
   "source": [
    "## 2. Стандартизация признаков\n",
    "\n",
    "Поскольку в линейной модели мы ищем целевую характеристику ввиде линейной комбинации признаков, то мы бы хотели чтобы величины признаков измерялись в сопоставимых масштабах. Сравните различные подходы к стандартизации признаков:\n",
    "\n",
    "1. Стандартизация или z-scoring: (x - mean(x)) / std(x). Среднее каждого признака становится равно 0, стандартное отклонение становится равно 1.\n",
    "2. Нормализация к [0, 1]: (x - min(x)) / (max(x) - min(x))\n",
    "3. Логарифмирование: log(x + 1). Потенциальным недостатком первых двух подходов является необходимость подсчета статистик на тренировочной выборке и применение их на тестовой.\n",
    "\n",
    "Обратите внимание что подсчет всех статистик mean, std, min, max должен производиться на тренировочной части данных и применяться к тестовой (потому что на практике у вас нет никакой статистики на этапе предсказание, вы делаете предсказание для конкретного 1ого дома).\n",
    "\n",
    "Воспользуйтесь методами `sklearn.preprocessing.StandardScaler` и `sklearn.preprocessing.MinMaxScaler`. Обучайте модель линейной регрессии на тренировочной части данных, делайте предсказание и оценивайте качество на валидационной.\n",
    "\n",
    "4. Какой из подходов дает наилучшее качество (включая отсутствие какой бы то нибыло стандартизации данных)?\n",
    "5. Как меняются веса признаков в линейной модели при применении различных видов стандартизации?"
   ]
  },
  {
   "cell_type": "code",
   "execution_count": 56,
   "id": "dd7f63d0",
   "metadata": {},
   "outputs": [
    {
     "name": "stdout",
     "output_type": "stream",
     "text": [
      "44600692064.987686\n",
      "[ -38461.61438468   46576.52400712   75015.83554764   -3143.20198512\n",
      "    9800.43758878   45666.81032933   34645.06267487    9510.36158203\n",
      "  139561.3802391    64778.4392752    34770.93468401 -109828.56407384\n",
      "     322.10888184   15371.81990652  -11996.50414092]\n",
      "[0.27558924 0.33373505 0.53751142 0.022522   0.07022313 0.32721667\n",
      " 0.24824248 0.06814465 1.         0.46415734 0.24914439 0.78695527\n",
      " 0.00230801 0.11014379 0.08595862]\n"
     ]
    }
   ],
   "source": [
    "zscoring = StandardScaler()\n",
    "zscoring.fit(x_train)\n",
    "\n",
    "x_train_new1 = zscoring.transform(x_train)\n",
    "x_valid_new1 = zscoring.transform(x_valid)\n",
    "x_test_new1 = zscoring.transform(x_test)\n",
    "\n",
    "model = LinearRegression()\n",
    "model.fit(x_train_new1, y_train)\n",
    "\n",
    "y_valid_pred1 = model.predict(x_valid_new1)\n",
    "y_test_pred1 = model.predict(x_test_new1)\n",
    "\n",
    "print(mean_squared_error(y_valid, y_valid_pred1))\n",
    "\n",
    "print(model.coef_)\n",
    "abscoef = abs(model.coef_)\n",
    "print(abscoef/abscoef.max())"
   ]
  },
  {
   "cell_type": "code",
   "execution_count": 57,
   "id": "8b9a2506",
   "metadata": {},
   "outputs": [
    {
     "name": "stdout",
     "output_type": "stream",
     "text": [
      "44600692064.98767\n",
      "[-1299949.29783402   483243.83316135   799555.6332045    -79891.06258461\n",
      "    45813.61561185   543770.59419951   180678.50083123    59109.63331034\n",
      "  1434821.53911522   908312.80399398   479315.22148021  -427883.52344607\n",
      "     1639.78732943   130604.70441674  -376530.26613127]\n",
      "[0.90600069 0.33679717 0.55725093 0.05568014 0.03192984 0.37898134\n",
      " 0.12592402 0.04119651 1.         0.63304932 0.33405912 0.29821376\n",
      " 0.00114285 0.09102505 0.26242307]\n"
     ]
    }
   ],
   "source": [
    "minmax = MinMaxScaler()\n",
    "minmax.fit(x_train)\n",
    "\n",
    "x_train_new2 = minmax.transform(x_train)\n",
    "x_valid_new2 = minmax.transform(x_valid)\n",
    "x_test_new2 = minmax.transform(x_test)\n",
    "\n",
    "model = LinearRegression()\n",
    "model.fit(x_train_new2, y_train)\n",
    "\n",
    "y_valid_pred2 = model.predict(x_valid_new2)\n",
    "y_test_pred2 = model.predict(x_test_new2)\n",
    "\n",
    "print(mean_squared_error(y_valid, y_valid_pred2))\n",
    "\n",
    "print(model.coef_)\n",
    "abscoef = abs(model.coef_)\n",
    "print(abscoef/abscoef.max())"
   ]
  },
  {
   "cell_type": "code",
   "execution_count": 58,
   "id": "0ccdf263",
   "metadata": {},
   "outputs": [
    {
     "name": "stdout",
     "output_type": "stream",
     "text": [
      "51841036974.26161\n",
      "[-1.41034747e+05  1.69180504e+05 -7.86147361e+04 -6.48169348e+03\n",
      "  2.84097815e+03  9.04932796e+05  1.17832911e+05  6.87265669e+04\n",
      "  1.17516296e+06  3.05317691e+05  1.93383459e+04 -7.30527205e+06\n",
      "  2.04508484e+03  1.10049797e+05 -1.30378800e+04]\n",
      "[1.93058857e-02 2.31586863e-02 1.07613701e-02 8.87262436e-04\n",
      " 3.88894230e-04 1.23873935e-01 1.61298457e-02 9.40780390e-03\n",
      " 1.60865051e-01 4.17941576e-02 2.64717669e-03 1.00000000e+00\n",
      " 2.79946431e-04 1.50644351e-02 1.78472203e-03]\n"
     ]
    }
   ],
   "source": [
    "x_train_new3 = np.log(x_train + 1)\n",
    "x_valid_new3 = np.log(x_valid + 1)\n",
    "x_test_new3 = np.log(x_test + 1)\n",
    "\n",
    "model = LinearRegression()\n",
    "model.fit(x_train_new3, y_train)\n",
    "\n",
    "y_valid_pred3 = model.predict(x_valid_new3)\n",
    "y_test_pred3 = model.predict(x_test_new3)\n",
    "print(mean_squared_error(y_valid, y_valid_pred3))\n",
    "\n",
    "print(model.coef_)\n",
    "abscoef = abs(model.coef_)\n",
    "print(abscoef/abscoef.max())"
   ]
  },
  {
   "cell_type": "markdown",
   "id": "cceeafa7",
   "metadata": {},
   "source": [
    "## 3. Отбор признаков\n",
    "\n",
    "1. Воспользуйтесь методом `sklearn.feature_selection.RFE` для отбора 5 наиболее важных признаков. \n",
    "- сравните как меняется результат для 3 подходов к стандартизации признаков и для случая без нормировки\n",
    "- в рамках каждого подхода сравните отобранные 10 признаков с 10 признаками имеющими наибольшую важность для базовой модели (обученной на всех данных). Подготовьте таблицу важности признаков, в которой каждый столбец соответствует какому-то методу нормировки данных. Сравните какие признаки оказываются важными в разных сценариях. Прокомментируйте полученный результат.\n",
    "\n",
    "|LR|LR-standartized|LR-normalized|LR-log|LR-standartized-RFE|LR-normalized-RFE|LR-log-RFE|\n",
    "\n",
    "2. Оцените качество каждой из 7 обученных моделей на тестовой части данных `kc_house_data_test.csv` не забудьте применить соответствующие преобразования (стандартизация и пр). Совпадают ли лучшая модель на валидации и на тесте?"
   ]
  },
  {
   "cell_type": "code",
   "execution_count": 59,
   "id": "5ed2c7ee",
   "metadata": {},
   "outputs": [
    {
     "name": "stdout",
     "output_type": "stream",
     "text": [
      "47761912049.86946\n",
      "[False False  True False False  True False False  True  True False  True\n",
      " False False False]\n",
      "[1.         0.36073645 0.98770145 0.05323663 0.6126772 ]\n"
     ]
    }
   ],
   "source": [
    "model.fit(x_train_new1, y_train)\n",
    "\n",
    "rfe = RFE(model, n_features_to_select=5)\n",
    "rfe.fit(x_train_new1, y_train)\n",
    "\n",
    "y_pred = rfe.predict(x_valid_new1)\n",
    "y_test_pred1_rfe = rfe.predict(x_test_new1)\n",
    "\n",
    "print(mean_squared_error(y_valid, y_pred))\n",
    "print(rfe.support_)\n",
    "\n",
    "coef = abs(rfe.estimator_.coef_)\n",
    "print(coef/coef.max())"
   ]
  },
  {
   "cell_type": "code",
   "execution_count": 60,
   "id": "90dad9c2",
   "metadata": {},
   "outputs": [
    {
     "name": "stdout",
     "output_type": "stream",
     "text": [
      "59241761832.89005\n",
      "[ True False  True False False False False False  True  True  True False\n",
      " False False False]\n",
      "[1.         0.75724767 0.89798195 0.74429017 0.67336209]\n"
     ]
    }
   ],
   "source": [
    "model.fit(x_train_new2, y_train)\n",
    "\n",
    "rfe = RFE(model, n_features_to_select = 5)\n",
    "rfe.fit(x_train_new2, y_train)\n",
    "\n",
    "y_pred = rfe.predict(x_valid_new2)\n",
    "y_test_pred2_rfe = rfe.predict(x_test_new2)\n",
    "\n",
    "print(mean_squared_error(y_valid, y_pred))\n",
    "print(rfe.support_)\n",
    "\n",
    "abscoef = abs(rfe.estimator_.coef_)\n",
    "print(abscoef/abscoef.max())"
   ]
  },
  {
   "cell_type": "code",
   "execution_count": 61,
   "id": "05efe1cf",
   "metadata": {},
   "outputs": [
    {
     "name": "stdout",
     "output_type": "stream",
     "text": [
      "56025767959.23278\n",
      "[False  True  True False False  True False False  True False False  True\n",
      " False False False]\n",
      "[0.02264716 0.02489951 0.14544684 0.18054157 1.        ]\n"
     ]
    }
   ],
   "source": [
    "model.fit(x_train_new3, y_train)\n",
    "\n",
    "rfe = RFE(model, n_features_to_select = 5)\n",
    "rfe.fit(x_train_new3, y_train)\n",
    "\n",
    "y_pred = rfe.predict(x_valid_new3)\n",
    "y_test_pred3_rfe = rfe.predict(x_test_new3)\n",
    "\n",
    "print(mean_squared_error(y_valid, y_pred))\n",
    "print(rfe.support_)\n",
    "\n",
    "abscoef = abs(rfe.estimator_.coef_)\n",
    "print(abscoef/abscoef.max())"
   ]
  },
  {
   "cell_type": "code",
   "execution_count": 62,
   "id": "96d3488f",
   "metadata": {},
   "outputs": [
    {
     "name": "stdout",
     "output_type": "stream",
     "text": [
      "59826960746.653175\n",
      "[False  True False False False  True  True  True  True False False False\n",
      " False False False]\n",
      "[0.1320748  1.         0.15665896 0.12300473 0.29458229]\n"
     ]
    }
   ],
   "source": [
    "model.fit(x_train, y_train)\n",
    "\n",
    "rfe = RFE(model, n_features_to_select = 5)\n",
    "rfe.fit(x_train, y_train)\n",
    "\n",
    "y_pred = rfe.predict(x_valid)\n",
    "print(mean_squared_error(y_valid, y_pred))\n",
    "print(rfe.support_)\n",
    "\n",
    "abscoef = abs(rfe.estimator_.coef_)\n",
    "print(abscoef/abscoef.max())"
   ]
  },
  {
   "cell_type": "code",
   "execution_count": 63,
   "id": "6cf7e2d3",
   "metadata": {},
   "outputs": [
    {
     "name": "stdout",
     "output_type": "stream",
     "text": [
      "46611588405.96534\n",
      "46611588405.96165\n",
      "46611588405.96165\n",
      "54179215275.6223\n",
      "48419454301.99658\n",
      "60634950053.95871\n",
      "57209745331.27951\n"
     ]
    }
   ],
   "source": [
    "print(mean_squared_error(y_test, y_test_pred))\n",
    "print(mean_squared_error(y_test, y_test_pred1))\n",
    "print(mean_squared_error(y_test, y_test_pred2))\n",
    "print(mean_squared_error(y_test, y_test_pred3))\n",
    "print(mean_squared_error(y_test, y_test_pred1_rfe))\n",
    "print(mean_squared_error(y_test, y_test_pred2_rfe))\n",
    "print(mean_squared_error(y_test, y_test_pred3_rfe))"
   ]
  },
  {
   "cell_type": "markdown",
   "id": "38ca8def",
   "metadata": {},
   "source": [
    "## Подготовьте репорт о выполненном домашнем задании\n",
    "\n",
    "Подготовьте текстовый репорт о выполенном домашнем задании. \n",
    "\n",
    "Вы можете вставлять в текст таблицы и/или графики на ваше усмотрение, текст репорта должен быть в двухколоночном формате не более 2 страниц 12 кеглем Times New Roman (крайне желательно 1 страница), см. шаблон https://docs.google.com/document/d/1YqnO0OFbTR7XgzmdWryQF22J1kl9Fg7hSlNbqa6Jbiw/edit?usp=sharing\n",
    "\n",
    "Подготовленный репорт и jupyter notebook c вашим решением необходимо отправить на почту kurmukovai@gmail.com, с темой письма [iitp-intro-ds-2023-ha2-Surname], например [iitp-intro-ds-2023-ha2-Kurmukov] до 23:59:59 МСК 04.03.2023."
   ]
  },
  {
   "cell_type": "code",
   "execution_count": null,
   "id": "2be05870",
   "metadata": {},
   "outputs": [],
   "source": []
  },
  {
   "cell_type": "code",
   "execution_count": null,
   "id": "36ff0cd7",
   "metadata": {},
   "outputs": [],
   "source": []
  }
 ],
 "metadata": {
  "kernelspec": {
   "display_name": "Python 3 (ipykernel)",
   "language": "python",
   "name": "python3"
  },
  "language_info": {
   "codemirror_mode": {
    "name": "ipython",
    "version": 3
   },
   "file_extension": ".py",
   "mimetype": "text/x-python",
   "name": "python",
   "nbconvert_exporter": "python",
   "pygments_lexer": "ipython3",
   "version": "3.10.12"
  }
 },
 "nbformat": 4,
 "nbformat_minor": 5
}
