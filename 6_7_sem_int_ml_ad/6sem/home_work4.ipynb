{
 "cells": [
  {
   "cell_type": "markdown",
   "id": "f43bb357",
   "metadata": {},
   "source": [
    "# Решающее дерево для задачи регрессии\n",
    "\n",
    "\n",
    "Ваше домашнее задание состоит из 2 частей, задания 1-3 включают в себя имплементацию алгоритма Решающего дерева для задачи регрессии, в задании 4 необходимо применить метод решающего дерева к набору данных стоимости квартир.\n",
    "\n",
    "# 1. Починить имплементацию решающего дерева\n",
    "\n",
    "Ниже представлена имплементация алгоритма Решающего дерева для задачи регрессии и пример запуска. В качестве критерия остановки выступает максимальная глубина дерева и минимальное количество наблюдений в листе.\n",
    "\n",
    "Вам необходимо внести несколько изменений:\n",
    "\n",
    "    1.1  Сейчас min_samples_leaf не используется, таким образом в листах дерева может оказаться произвольное количество наблюдений, вам необходимо это починить.\n",
    "    1.2 Для удобства отслеживания числа наблюдений в каждом узле добавьте поле \"support\" (количество наблюдейний в текущем узле) в словарь `self.tree`."
   ]
  },
  {
   "cell_type": "code",
   "execution_count": 22,
   "id": "6d12334b",
   "metadata": {},
   "outputs": [],
   "source": [
    "import numpy as np\n",
    "\n",
    "class DecisionTreeRegressor:\n",
    "    def __init__(self, max_depth, min_samples_leaf):\n",
    "        \"\"\"\n",
    "        max_depth, int - максимальная глубина дерева\n",
    "        min_samples_leaf, int - минимальное количество наблюдений в листе\n",
    "        \"\"\"\n",
    "        self.max_depth = max_depth\n",
    "        self.min_samples_leaf = min_samples_leaf\n",
    "        self.tree = None\n",
    "        \n",
    "    def _split_data(self, X, y, feature_index, threshold):\n",
    "        left_mask = X[:, feature_index] <= threshold\n",
    "        right_mask = X[:, feature_index] > threshold\n",
    "        X_left, y_left = X[left_mask], y[left_mask]\n",
    "        X_right, y_right = X[right_mask], y[right_mask]\n",
    "        return X_left, y_left, X_right, y_right\n",
    "    \n",
    "    def _mse(self, y):\n",
    "        return np.mean((y - np.mean(y))**2)\n",
    "    \n",
    "    def _best_split(self, X, y):\n",
    "        best_feature_index, best_threshold = None, None\n",
    "        best_mse = float('inf')\n",
    "        n_features = X.shape[1]\n",
    "        \n",
    "        for feature_index in range(n_features):\n",
    "            feature_values = X[:, feature_index]\n",
    "            thresholds = np.unique(feature_values)\n",
    "            \n",
    "            if len(thresholds) < 10:\n",
    "                bins_centers = thresholds\n",
    "                #print(thresholds)\n",
    "            else:\n",
    "                bins = num_of_bins(thresholds)            \n",
    "                bins_height, bins_edges = np.histogram(thresholds, bins)\n",
    "                bins_centers = (bins_edges[:-1]+bins_edges[1:])/2\n",
    "            \n",
    "            for threshold in bins_centers:\n",
    "                X_left, y_left, X_right, y_right = self._split_data(X, y, feature_index, threshold)\n",
    "                mse_left = self._mse(y_left)\n",
    "                mse_right = self._mse(y_right)\n",
    "                mse_split = (len(y_left) * mse_left + len(y_right) * mse_right) / len(y)\n",
    "                if mse_split < best_mse:\n",
    "                    best_mse = mse_split\n",
    "                    best_feature_index = feature_index\n",
    "                    best_threshold = threshold\n",
    "        return best_feature_index, best_threshold\n",
    "    \n",
    "    def _build_tree(self, X, y, depth):\n",
    "        if depth == self.max_depth:\n",
    "            return np.mean(y)\n",
    "\n",
    "        if len(y) < self.min_samples_leaf:\n",
    "            return np.mean(y)\n",
    "        \n",
    "        feature_index, threshold = self._best_split(X, y)\n",
    "        if feature_index is None:\n",
    "            return np.mean(y)\n",
    "        X_left, y_left, X_right, y_right = self._split_data(X, y, feature_index, threshold)\n",
    "        tree = {\n",
    "            'feature_index': feature_index,\n",
    "            'threshold': threshold,\n",
    "            'support': len(y)\n",
    "        }\n",
    "        \n",
    "        tree['left'] = self._build_tree(X_left, y_left, depth + 1)\n",
    "        tree['right'] = self._build_tree(X_right, y_right, depth + 1)        \n",
    "        return tree\n",
    "    \n",
    "    def fit(self, X, y):\n",
    "        self.tree = self._build_tree(X, y, depth=0)\n",
    "    \n",
    "    def _predict_one(self, tree, x):\n",
    "        if isinstance(tree, float):\n",
    "            return tree\n",
    "        feature_index, threshold = tree['feature_index'], tree['threshold']\n",
    "        if x[feature_index] <= threshold:\n",
    "            return self._predict_one(tree['left'], x)\n",
    "        else:\n",
    "            return self._predict_one(tree['right'], x)\n",
    "        \n",
    "    def predict(self, X):\n",
    "        predictions = []\n",
    "        for x in X:\n",
    "            prediction = self._predict_one(self.tree, x)\n",
    "            predictions.append(prediction)\n",
    "        return np.array(predictions)"
   ]
  },
  {
   "cell_type": "code",
   "execution_count": 52,
   "id": "da72439f",
   "metadata": {},
   "outputs": [],
   "source": [
    "dt = DecisionTreeRegressor(3, 50)"
   ]
  },
  {
   "cell_type": "code",
   "execution_count": 24,
   "id": "b3dc5dfa",
   "metadata": {},
   "outputs": [],
   "source": [
    "from sklearn.datasets import fetch_openml"
   ]
  },
  {
   "cell_type": "code",
   "execution_count": 68,
   "id": "c3770af0",
   "metadata": {},
   "outputs": [],
   "source": [
    "X, y = fetch_openml(name=\"house_prices\", as_frame=True, return_X_y=True)\n",
    "X = X.dropna(axis=1)\n",
    "X = X.loc[:, X.dtypes == 'float64']\n",
    "X.drop('Id', axis=1, inplace=True)\n",
    "#print(X)"
   ]
  },
  {
   "cell_type": "code",
   "execution_count": 67,
   "id": "e3071ab3",
   "metadata": {},
   "outputs": [
    {
     "name": "stderr",
     "output_type": "stream",
     "text": [
      "/home/ekatrina/.local/lib/python3.10/site-packages/numpy/core/fromnumeric.py:3432: RuntimeWarning: Mean of empty slice.\n",
      "  return _methods._mean(a, axis=axis, dtype=dtype,\n",
      "/home/ekatrina/.local/lib/python3.10/site-packages/numpy/core/_methods.py:190: RuntimeWarning: invalid value encountered in double_scalars\n",
      "  ret = ret.dtype.type(ret / rcount)\n"
     ]
    }
   ],
   "source": [
    "dt.fit(X.values, y.values)"
   ]
  },
  {
   "cell_type": "code",
   "execution_count": 27,
   "id": "f1ca4dc0",
   "metadata": {},
   "outputs": [
    {
     "data": {
      "text/plain": [
       "array([193589.69162996, 126365.9295302 , 193589.69162996, 193589.69162996,\n",
       "       313910.94915254])"
      ]
     },
     "execution_count": 27,
     "metadata": {},
     "output_type": "execute_result"
    }
   ],
   "source": [
    "dt.predict(X.values[:5])\n",
    "#array([194238.74476987, 124907.77836879, 194238.74476987, 194238.74476987, 314894.55384615])\n",
    "#математическое округление\n",
    "#array([206621.8057971, 159242.96264368, 206621.8057971 , 206621.8057971 , 308268.78947368]) 5, 6\n",
    "#array([195721.036, 126365.9295302, 195721.036, 195721.036, 308268.78947368]) 10, 20, 13\n",
    "#округление в большую сторону\n",
    "#array([224372.67774086, 157492.47131148, 224372.67774086, 142033.33333333, 283356.325     ])\n",
    "#округление в меньшую сторону\n",
    "#array([193589.69162996, 126365.9295302 , 193589.69162996, 193589.69162996, 313910.94915254])"
   ]
  },
  {
   "cell_type": "code",
   "execution_count": 28,
   "id": "0a1a2a7d",
   "metadata": {},
   "outputs": [
    {
     "data": {
      "text/plain": [
       "{'feature_index': 2,\n",
       " 'threshold': 7.75,\n",
       " 'support': 1460,\n",
       " 'left': {'feature_index': 2,\n",
       "  'threshold': 6.0,\n",
       "  'support': 1231,\n",
       "  'left': {'feature_index': 13,\n",
       "   'threshold': 1427.2142857142858,\n",
       "   'support': 912,\n",
       "   'left': 126365.92953020135,\n",
       "   'right': 166823.07594936708},\n",
       "  'right': {'feature_index': 13,\n",
       "   'threshold': 1874.4375,\n",
       "   'support': 319,\n",
       "   'left': 193589.69162995595,\n",
       "   'right': 242572.59782608695}},\n",
       " 'right': {'feature_index': 2,\n",
       "  'threshold': 8.0,\n",
       "  'support': 229,\n",
       "  'left': {'feature_index': 13,\n",
       "   'threshold': 2005.3888888888887,\n",
       "   'support': 168,\n",
       "   'left': 253530.49541284403,\n",
       "   'right': 313910.9491525424},\n",
       "  'right': {'feature_index': 11,\n",
       "   'threshold': 1548.75,\n",
       "   'support': 61,\n",
       "   'left': 371942.2586206897,\n",
       "   'right': 708333.3333333334}}}"
      ]
     },
     "execution_count": 28,
     "metadata": {},
     "output_type": "execute_result"
    }
   ],
   "source": [
    "dt.tree"
   ]
  },
  {
   "cell_type": "code",
   "execution_count": null,
   "id": "48be899e",
   "metadata": {},
   "outputs": [],
   "source": []
  },
  {
   "cell_type": "code",
   "execution_count": null,
   "id": "e9da3c11",
   "metadata": {},
   "outputs": [],
   "source": []
  },
  {
   "cell_type": "markdown",
   "id": "86f0a3f3",
   "metadata": {},
   "source": [
    "# 2. Воспользуйтесь `line_profiler` \n",
    "\n",
    "Текущая имплементация Решающего дерева работает очень медленно. Чтобы локализовать что отнимает так много времени воспользуйтесь `line_profiler`.\n",
    "\n",
    "    2.1 Что занимает больше всего времени на этапе обучения решающего дерева?\n",
    "    \n",
    "https://jakevdp.github.io/PythonDataScienceHandbook/01.07-timing-and-profiling.html"
   ]
  },
  {
   "cell_type": "code",
   "execution_count": null,
   "id": "12d20345",
   "metadata": {},
   "outputs": [],
   "source": [
    "pip install line_profiler"
   ]
  },
  {
   "cell_type": "code",
   "execution_count": 29,
   "id": "65cf37dc",
   "metadata": {},
   "outputs": [],
   "source": [
    "%load_ext line_profiler"
   ]
  },
  {
   "cell_type": "code",
   "execution_count": 49,
   "id": "7a45ca5e",
   "metadata": {},
   "outputs": [],
   "source": [
    "#%lprun -f dt._build_tree dt._build_tree(X.values[:100], y.values[:100], 3)"
   ]
  },
  {
   "cell_type": "code",
   "execution_count": 53,
   "id": "8ea0d2db",
   "metadata": {},
   "outputs": [],
   "source": [
    "%lprun -f dt._build_tree dt.fit(X.values[:100], y.values[:100])"
   ]
  },
  {
   "cell_type": "code",
   "execution_count": null,
   "id": "f3a77b4c",
   "metadata": {},
   "outputs": [],
   "source": []
  },
  {
   "cell_type": "code",
   "execution_count": null,
   "id": "8c739f9e",
   "metadata": {},
   "outputs": [],
   "source": []
  },
  {
   "cell_type": "markdown",
   "id": "e11520fe",
   "metadata": {},
   "source": [
    "# 3. Гистограммы\n",
    "\n",
    "Вместо того чтобы перебирать все уникальные значения признака в методе `self._best_split` мы будем восстанавливать гистограмму распределения признака и перебирать только уникальные значения в бинах, см. пример:"
   ]
  },
  {
   "cell_type": "code",
   "execution_count": 8,
   "id": "fbdc85b5",
   "metadata": {},
   "outputs": [],
   "source": [
    "x = np.random.normal(0, 1, 200)"
   ]
  },
  {
   "cell_type": "code",
   "execution_count": 9,
   "id": "d428a49c",
   "metadata": {},
   "outputs": [
    {
     "data": {
      "text/plain": [
       "200"
      ]
     },
     "execution_count": 9,
     "metadata": {},
     "output_type": "execute_result"
    }
   ],
   "source": [
    "len(np.unique(x))"
   ]
  },
  {
   "cell_type": "code",
   "execution_count": 10,
   "id": "2921cd55",
   "metadata": {},
   "outputs": [],
   "source": [
    "bins_height, bins_edges = np.histogram(x, bins=10)\n",
    "bins_centers = (bins_edges[:-1]+bins_edges[1:])/2"
   ]
  },
  {
   "cell_type": "code",
   "execution_count": 11,
   "id": "9dd79f0d",
   "metadata": {},
   "outputs": [
    {
     "data": {
      "text/plain": [
       "10"
      ]
     },
     "execution_count": 11,
     "metadata": {},
     "output_type": "execute_result"
    }
   ],
   "source": [
    "len(bins_centers)"
   ]
  },
  {
   "cell_type": "markdown",
   "id": "947ad4d9",
   "metadata": {},
   "source": [
    "Т.е. вместо \"200\" уникальных трешхолдов мы будем использовать только \"10\"."
   ]
  },
  {
   "cell_type": "code",
   "execution_count": 12,
   "id": "b39f3613",
   "metadata": {},
   "outputs": [],
   "source": [
    "import matplotlib.pyplot as plt"
   ]
  },
  {
   "cell_type": "code",
   "execution_count": 13,
   "id": "948f45f1",
   "metadata": {},
   "outputs": [
    {
     "data": {
      "text/plain": [
       "array([-2.5484855 , -2.000583  , -1.45268049, -0.90477799, -0.35687548,\n",
       "        0.19102702,  0.73892953,  1.28683203,  1.83473454,  2.38263704])"
      ]
     },
     "execution_count": 13,
     "metadata": {},
     "output_type": "execute_result"
    }
   ],
   "source": [
    "bins_centers"
   ]
  },
  {
   "cell_type": "code",
   "execution_count": 14,
   "id": "324cba97",
   "metadata": {},
   "outputs": [
    {
     "data": {
      "text/plain": [
       "array([-0.5479025, -0.5479025, -0.5479025, -0.5479025, -0.5479025,\n",
       "       -0.5479025, -0.5479025, -0.5479025, -0.5479025, -0.5479025])"
      ]
     },
     "execution_count": 14,
     "metadata": {},
     "output_type": "execute_result"
    }
   ],
   "source": [
    "# Ширина бинов одинакова\n",
    "bins_edges[:-1]-bins_edges[1:] "
   ]
  },
  {
   "cell_type": "code",
   "execution_count": 15,
   "id": "d2878eba",
   "metadata": {},
   "outputs": [
    {
     "data": {
      "image/png": "[encoded data removed]",
      "text/plain": [
       "<Figure size 640x480 with 1 Axes>"
      ]
     },
     "metadata": {},
     "output_type": "display_data"
    }
   ],
   "source": [
    "plt.bar(bins_centers, bins_height, width=0.6);"
   ]
  },
  {
   "cell_type": "markdown",
   "id": "4ca8fe75",
   "metadata": {},
   "source": [
    "### Выбор числа бинов\n",
    "\n",
    "Количество бинов гистограммы может сильно повлиять на то как вы приближаете ваше распределение"
   ]
  },
  {
   "cell_type": "code",
   "execution_count": 16,
   "id": "3de2b679",
   "metadata": {},
   "outputs": [
    {
     "data": {
      "image/png": "[encoded data removed]",
      "text/plain": [
       "<Figure size 1200x900 with 12 Axes>"
      ]
     },
     "metadata": {},
     "output_type": "display_data"
    }
   ],
   "source": [
    "fig, axs = plt.subplots(3, 4, figsize=(12, 9))\n",
    "n_bins = np.round(np.linspace(1, 50, 12)).astype(int)\n",
    "\n",
    "for i, ax in enumerate(axs.flatten()):\n",
    "    ax.hist(x, bins=n_bins[i])\n",
    "    ax.set_title(f'number of bins is {n_bins[i]}')"
   ]
  },
  {
   "cell_type": "code",
   "execution_count": null,
   "id": "7ebba3d8",
   "metadata": {},
   "outputs": [],
   "source": []
  },
  {
   "cell_type": "markdown",
   "id": "6b2a962c",
   "metadata": {},
   "source": [
    "### Метод Freedman–Diaconis \n",
    "\n",
    "https://en.wikipedia.org/wiki/Freedman%E2%80%93Diaconis_rule\n",
    "\n",
    "Для выбора числа бинов в гистограмме воспользуйте правилом Freedman–Diaconis:\n",
    "\n",
    "$$\\text{Bin width} = 2 \\cdot \\frac{IQR(x)}{x^{1/3}}$$\n",
    "\n",
    "Где IQR это inter quartile range, то есть расстояние между 25 и 75 перцентилем распределения.\n",
    "\n",
    "    3.1 Метод Freedman–Diaconis дает формулу для ширины бина (одинаковая для всех бинов), а чему в таком случае равно число бинов?\n",
    "    3.2 Имплементируйте функцию для подсчета числа бинов по формуле Freedman–Diaconis"
   ]
  },
  {
   "cell_type": "code",
   "execution_count": 41,
   "id": "e57681a6",
   "metadata": {},
   "outputs": [],
   "source": [
    "import math\n",
    "# iqr\n",
    "def num_of_bins(x):\n",
    "    iqr = np.quantile(x, 0.75) - np.quantile(x, 0.25)\n",
    "    \n",
    "    bi_wi = 2 * iqr / len(x) ** (1./3.) \n",
    "    #print(\"calculate\", abs(max(x) - min(x)), bi_wi)\n",
    "    num_of_bins = abs(max(x) - min(x)) / bi_wi\n",
    "    \n",
    "    return round(num_of_bins)\n",
    "    #return math.floor(num_of_bins)\n",
    "    #return math.ceil(num_of_bins)\n",
    "    "
   ]
  },
  {
   "cell_type": "code",
   "execution_count": 42,
   "id": "4c3ff3f4",
   "metadata": {
    "scrolled": true
   },
   "outputs": [
    {
     "name": "stdout",
     "output_type": "stream",
     "text": [
      "12\n"
     ]
    }
   ],
   "source": [
    "print(num_of_bins(x))"
   ]
  },
  {
   "cell_type": "markdown",
   "id": "d6eb6b26",
   "metadata": {},
   "source": [
    "### В методе `self._best_split` замените перебор всех уникальных трешхолдов на перебор только по уникальным бинам\n",
    "\n",
    "Количество бинов подбирайте методом Freedman–Diaconis\n",
    "\n",
    "    3.3 Засеките время обучения вашего регрессора до и после имплементации гистограмм, насколько быстрее стало обучение?\n",
    "    3.4 Сравните скорость работы вашей имплементации решающего дерева и имплементации sklearn.tree.DecisionTreeRegressor, с аналогичными гиперпараметрами\n",
    "    3.5 Перечислите другие способы ускорения алгоритма решающего дерева (кроме приближения распределений признаков гистограмми)"
   ]
  },
  {
   "cell_type": "code",
   "execution_count": 63,
   "id": "834e94e1",
   "metadata": {},
   "outputs": [],
   "source": [
    "from sklearn.tree import DecisionTreeClassifier\n",
    "\n",
    "model_l = DecisionTreeClassifier(max_depth = 3, min_samples_split = 50)\n",
    "#model = model.fit(X.values, y.values)\n",
    "\n",
    "#%load_ext line_profiler"
   ]
  },
  {
   "cell_type": "code",
   "execution_count": 54,
   "id": "e4c870f3",
   "metadata": {},
   "outputs": [],
   "source": [
    "%lprun -f dt._build_tree dt.fit(X.values[:100], y.values[:100])"
   ]
  },
  {
   "cell_type": "code",
   "execution_count": 65,
   "id": "965919db",
   "metadata": {},
   "outputs": [],
   "source": [
    "%lprun -f model_l.fit model_l.fit(X.values[:100], y.values[:100])"
   ]
  },
  {
   "cell_type": "markdown",
   "id": "be258550",
   "metadata": {},
   "source": [
    "# 4. House pricing\n",
    "\n",
    "воспользуйтесь набором данных из ДЗ2. Обучите алгоритм Решающего дерева (воспользуйтесь имплементацией из sklearn), не забудьте разделить данные на тренировочную и тестовую выборки. \n",
    "\n",
    "    4.1. Влияет ли нормировка признаков на алгоритм Решающего дерева? Почему?\n",
    "    4.2. Переберите различные значения гиперпараметров решающего дерева с использованием функции GridSearchCV, какое наилучшее качество в терминах mean_squared_error вам удалось получить? Насколько это лучше/хуже качества линейных моделей (на том же train-test разбиении).\n",
    "    4.3. Сравните важность признаков которую предлагает встроенный метод DecisionTreeRegressor().feature_importances_ с важностью признаков полученной для линейных моделей, прокомментируйте."
   ]
  },
  {
   "cell_type": "code",
   "execution_count": 98,
   "id": "caa125aa",
   "metadata": {},
   "outputs": [],
   "source": [
    "import pandas as pd\n",
    "from sklearn.model_selection import train_test_split\n",
    "from sklearn.model_selection import GridSearchCV\n",
    "from sklearn.metrics import mean_squared_error\n",
    "from sklearn.linear_model import Lasso, Ridge\n",
    "from sklearn.linear_model import LinearRegression"
   ]
  },
  {
   "cell_type": "code",
   "execution_count": 102,
   "id": "7ce6d450",
   "metadata": {},
   "outputs": [
    {
     "name": "stdout",
     "output_type": "stream",
     "text": [
      "       bedrooms  bathrooms  sqft_living  sqft_lot  floors  waterfront  view  \\\n",
      "21162         4       3.50         3560      6562     2.0           0     0   \n",
      "16877         3       3.25         4610     81935     2.0           0     0   \n",
      "16116         4       1.75         1890     10550     1.0           0     0   \n",
      "9557          2       1.00          840      5510     1.0           0     0   \n",
      "16302         4       3.50         5550     28078     2.0           0     2   \n",
      "...         ...        ...          ...       ...     ...         ...   ...   \n",
      "20147         3       1.50         1420      1192     2.0           0     0   \n",
      "8294          4       3.25         2885     33671     2.0           0     0   \n",
      "10406         5       2.25         3260      7969     2.0           0     0   \n",
      "6701          4       2.50         3100     10000     2.0           0     0   \n",
      "14811         4       3.00         2570      4000     2.0           0     0   \n",
      "\n",
      "       condition  grade  sqft_above  sqft_basement  yr_built  yr_renovated  \\\n",
      "21162          3     10        3560              0      2014             0   \n",
      "16877          4      9        4610              0      1984             0   \n",
      "16116          5      7        1010            880      1969             0   \n",
      "9557           3      7         840              0      1955             0   \n",
      "16302          4     12        3350           2200      2000             0   \n",
      "...          ...    ...         ...            ...       ...           ...   \n",
      "20147          3      8        1140            280      2008             0   \n",
      "8294           4      8        2885              0      1984             0   \n",
      "10406          4      8        3260              0      1982             0   \n",
      "6701           3      9        3100              0      1978             0   \n",
      "14811          3      8        1750            820      1909          2014   \n",
      "\n",
      "       sqft_living15  sqft_lot15  \n",
      "21162           3710        6562  \n",
      "16877           2900       43500  \n",
      "16116           1930        7291  \n",
      "9557            1630        5510  \n",
      "16302           2980       19602  \n",
      "...              ...         ...  \n",
      "20147           1340        1213  \n",
      "8294            1910       16000  \n",
      "10406           2070        7962  \n",
      "6701            1850        9438  \n",
      "14811           1970        4000  \n",
      "\n",
      "[14480 rows x 15 columns]\n"
     ]
    }
   ],
   "source": [
    "fd = pd.read_csv('kc_house_data_train.csv', index_col=0)\n",
    "pd.read_csv('kc_house_data_train.csv', index_col=0).head(3)\n",
    "\n",
    "X_h = pd.DataFrame()\n",
    "\n",
    "for i in fd:\n",
    "    if(i != 'price' and i != 'lat' and i != 'long' and i != 'zipcode' and i != 'date' and i != 'id'):\n",
    "        X_h[i] = fd[i]\n",
    "        \n",
    "        \n",
    "Y_h = fd['price']\n",
    "\n",
    "x_train_h, x_test_h, y_train_h, y_test_h = train_test_split(X_h, Y_h, train_size=0.7, random_state=5)\n",
    "\n",
    "print(X_h)"
   ]
  },
  {
   "cell_type": "code",
   "execution_count": 124,
   "id": "11d69f86",
   "metadata": {},
   "outputs": [
    {
     "name": "stderr",
     "output_type": "stream",
     "text": [
      "/home/ekatrina/.local/lib/python3.10/site-packages/sklearn/model_selection/_split.py:680: UserWarning: The least populated class in y has only 1 members, which is less than n_splits=5.\n",
      "  warnings.warn(\n"
     ]
    },
    {
     "data": {
      "text/html": [
       "<style>#sk-container-id-10 {color: black;background-color: white;}#sk-container-id-10 pre{padding: 0;}#sk-container-id-10 div.sk-toggleable {background-color: white;}#sk-container-id-10 label.sk-toggleable__label {cursor: pointer;display: block;width: 100%;margin-bottom: 0;padding: 0.3em;box-sizing: border-box;text-align: center;}#sk-container-id-10 label.sk-toggleable__label-arrow:before {content: \"▸\";float: left;margin-right: 0.25em;color: #696969;}#sk-container-id-10 label.sk-toggleable__label-arrow:hover:before {color: black;}#sk-container-id-10 div.sk-estimator:hover label.sk-toggleable__label-arrow:before {color: black;}#sk-container-id-10 div.sk-toggleable__content {max-height: 0;max-width: 0;overflow: hidden;text-align: left;background-color: #f0f8ff;}#sk-container-id-10 div.sk-toggleable__content pre {margin: 0.2em;color: black;border-radius: 0.25em;background-color: #f0f8ff;}#sk-container-id-10 input.sk-toggleable__control:checked~div.sk-toggleable__content {max-height: 200px;max-width: 100%;overflow: auto;}#sk-container-id-10 input.sk-toggleable__control:checked~label.sk-toggleable__label-arrow:before {content: \"▾\";}#sk-container-id-10 div.sk-estimator input.sk-toggleable__control:checked~label.sk-toggleable__label {background-color: #d4ebff;}#sk-container-id-10 div.sk-label input.sk-toggleable__control:checked~label.sk-toggleable__label {background-color: #d4ebff;}#sk-container-id-10 input.sk-hidden--visually {border: 0;clip: rect(1px 1px 1px 1px);clip: rect(1px, 1px, 1px, 1px);height: 1px;margin: -1px;overflow: hidden;padding: 0;position: absolute;width: 1px;}#sk-container-id-10 div.sk-estimator {font-family: monospace;background-color: #f0f8ff;border: 1px dotted black;border-radius: 0.25em;box-sizing: border-box;margin-bottom: 0.5em;}#sk-container-id-10 div.sk-estimator:hover {background-color: #d4ebff;}#sk-container-id-10 div.sk-parallel-item::after {content: \"\";width: 100%;border-bottom: 1px solid gray;flex-grow: 1;}#sk-container-id-10 div.sk-label:hover label.sk-toggleable__label {background-color: #d4ebff;}#sk-container-id-10 div.sk-serial::before {content: \"\";position: absolute;border-left: 1px solid gray;box-sizing: border-box;top: 0;bottom: 0;left: 50%;z-index: 0;}#sk-container-id-10 div.sk-serial {display: flex;flex-direction: column;align-items: center;background-color: white;padding-right: 0.2em;padding-left: 0.2em;position: relative;}#sk-container-id-10 div.sk-item {position: relative;z-index: 1;}#sk-container-id-10 div.sk-parallel {display: flex;align-items: stretch;justify-content: center;background-color: white;position: relative;}#sk-container-id-10 div.sk-item::before, #sk-container-id-10 div.sk-parallel-item::before {content: \"\";position: absolute;border-left: 1px solid gray;box-sizing: border-box;top: 0;bottom: 0;left: 50%;z-index: -1;}#sk-container-id-10 div.sk-parallel-item {display: flex;flex-direction: column;z-index: 1;position: relative;background-color: white;}#sk-container-id-10 div.sk-parallel-item:first-child::after {align-self: flex-end;width: 50%;}#sk-container-id-10 div.sk-parallel-item:last-child::after {align-self: flex-start;width: 50%;}#sk-container-id-10 div.sk-parallel-item:only-child::after {width: 0;}#sk-container-id-10 div.sk-dashed-wrapped {border: 1px dashed gray;margin: 0 0.4em 0.5em 0.4em;box-sizing: border-box;padding-bottom: 0.4em;background-color: white;}#sk-container-id-10 div.sk-label label {font-family: monospace;font-weight: bold;display: inline-block;line-height: 1.2em;}#sk-container-id-10 div.sk-label-container {text-align: center;}#sk-container-id-10 div.sk-container {/* jupyter's `normalize.less` sets `[hidden] { display: none; }` but bootstrap.min.css set `[hidden] { display: none !important; }` so we also need the `!important` here to be able to override the default hidden behavior on the sphinx rendered scikit-learn.org. See: https://github.com/scikit-learn/scikit-learn/issues/21755 */display: inline-block !important;position: relative;}#sk-container-id-10 div.sk-text-repr-fallback {display: none;}</style><div id=\"sk-container-id-10\" class=\"sk-top-container\"><div class=\"sk-text-repr-fallback\"><pre>GridSearchCV(estimator=DecisionTreeClassifier(),\n",
       "             param_grid={&#x27;max_depth&#x27;: [3, 11, 5],\n",
       "                         &#x27;min_samples_split&#x27;: [40, 43, 37, 29]})</pre><b>In a Jupyter environment, please rerun this cell to show the HTML representation or trust the notebook. <br />On GitHub, the HTML representation is unable to render, please try loading this page with nbviewer.org.</b></div><div class=\"sk-container\" hidden><div class=\"sk-item sk-dashed-wrapped\"><div class=\"sk-label-container\"><div class=\"sk-label sk-toggleable\"><input class=\"sk-toggleable__control sk-hidden--visually\" id=\"sk-estimator-id-24\" type=\"checkbox\" ><label for=\"sk-estimator-id-24\" class=\"sk-toggleable__label sk-toggleable__label-arrow\">GridSearchCV</label><div class=\"sk-toggleable__content\"><pre>GridSearchCV(estimator=DecisionTreeClassifier(),\n",
       "             param_grid={&#x27;max_depth&#x27;: [3, 11, 5],\n",
       "                         &#x27;min_samples_split&#x27;: [40, 43, 37, 29]})</pre></div></div></div><div class=\"sk-parallel\"><div class=\"sk-parallel-item\"><div class=\"sk-item\"><div class=\"sk-label-container\"><div class=\"sk-label sk-toggleable\"><input class=\"sk-toggleable__control sk-hidden--visually\" id=\"sk-estimator-id-25\" type=\"checkbox\" ><label for=\"sk-estimator-id-25\" class=\"sk-toggleable__label sk-toggleable__label-arrow\">estimator: DecisionTreeClassifier</label><div class=\"sk-toggleable__content\"><pre>DecisionTreeClassifier()</pre></div></div></div><div class=\"sk-serial\"><div class=\"sk-item\"><div class=\"sk-estimator sk-toggleable\"><input class=\"sk-toggleable__control sk-hidden--visually\" id=\"sk-estimator-id-26\" type=\"checkbox\" ><label for=\"sk-estimator-id-26\" class=\"sk-toggleable__label sk-toggleable__label-arrow\">DecisionTreeClassifier</label><div class=\"sk-toggleable__content\"><pre>DecisionTreeClassifier()</pre></div></div></div></div></div></div></div></div></div></div>"
      ],
      "text/plain": [
       "GridSearchCV(estimator=DecisionTreeClassifier(),\n",
       "             param_grid={'max_depth': [3, 11, 5],\n",
       "                         'min_samples_split': [40, 43, 37, 29]})"
      ]
     },
     "execution_count": 124,
     "metadata": {},
     "output_type": "execute_result"
    }
   ],
   "source": [
    "parameters = {'max_depth': [3, 11, 5] , 'min_samples_split': [40, 43, 37, 29]}\n",
    "\n",
    "model = DecisionTreeClassifier()\n",
    "#model.fit(x_train_h, y_train_h)\n",
    "\n",
    "clf = GridSearchCV(model, parameters)\n",
    "clf.fit(x_train_h, y_train_h)\n",
    "#sorted(clf.cv_results_)"
   ]
  },
  {
   "cell_type": "code",
   "execution_count": 125,
   "id": "9a6e867c",
   "metadata": {},
   "outputs": [
    {
     "name": "stdout",
     "output_type": "stream",
     "text": [
      "{'max_depth': 3, 'min_samples_split': 40}\n"
     ]
    }
   ],
   "source": [
    "print(clf.best_params_)"
   ]
  },
  {
   "cell_type": "code",
   "execution_count": 127,
   "id": "576540e4",
   "metadata": {},
   "outputs": [
    {
     "name": "stdout",
     "output_type": "stream",
     "text": [
      "treee mse: 65565615268.50138\n",
      "mse Ridge = 44608175069.59685\n",
      "mse Lasso = 44600849101.119354\n",
      "mse LinReg = 44600692064.984795\n"
     ]
    },
    {
     "name": "stderr",
     "output_type": "stream",
     "text": [
      "/home/ekatrina/.local/lib/python3.10/site-packages/sklearn/linear_model/_coordinate_descent.py:648: ConvergenceWarning: Objective did not converge. You might want to increase the number of iterations, check the scale of the features or consider increasing regularisation. Duality gap: 2.243e+14, tolerance: 1.378e+11\n",
      "  model = cd_fast.enet_coordinate_descent(\n"
     ]
    }
   ],
   "source": [
    "model_best = DecisionTreeClassifier(max_depth = 5, min_samples_split = 40)\n",
    "model_best.fit(x_train_h, y_train_h)\n",
    "\n",
    "y_pred = model_best.predict(x_test_h)\n",
    "mse = mean_squared_error(y_test_h, y_pred)\n",
    "print(\"treee mse:\", mse)\n",
    "\n",
    "model_R = Ridge()\n",
    "model_R.fit(x_train_h, y_train_h)\n",
    "y_test_R = model_R.predict(x_test_h)\n",
    "mse_test_R = mean_squared_error(y_test_h, y_test_R)\n",
    "print(\"mse Ridge =\", mse_test_R)\n",
    "\n",
    "model_L = Lasso()\n",
    "model_L.fit(x_train_h, y_train_h)\n",
    "y_test_L = model_L.predict(x_test_h)\n",
    "mse_test_L = mean_squared_error(y_test_h, y_test_L)\n",
    "print(\"mse Lasso =\", mse_test_L)\n",
    "\n",
    "model_LR = LinearRegression()\n",
    "model_LR.fit(x_train_h, y_train_h)\n",
    "y_test_LR = model_LR.predict(x_test_h)\n",
    "mse_test_LR = mean_squared_error(y_test_h, y_test_LR)\n",
    "print(\"mse LinReg =\", mse_test_LR)"
   ]
  },
  {
   "cell_type": "code",
   "execution_count": 128,
   "id": "32174330",
   "metadata": {},
   "outputs": [
    {
     "name": "stdout",
     "output_type": "stream",
     "text": [
      "[0.         0.         0.18845626 0.         0.         0.\n",
      " 0.         0.         0.26405215 0.12741506 0.03302328 0.17492456\n",
      " 0.02537454 0.11692118 0.06983296]\n"
     ]
    }
   ],
   "source": [
    "print(model_best.feature_importances_)"
   ]
  },
  {
   "cell_type": "markdown",
   "id": "12745cdf",
   "metadata": {},
   "source": [
    "## Подготовьте репорт о выполненном домашнем задании\n",
    "\n",
    "Вы можете вставлять в текст таблицы и/или графики на ваше усмотрение, текст репорта не должен превышать 2 страниц 12 кеглем Times New Roman (крайне желательно 1 страница)\n",
    "\n",
    "Подготовленный репорт и jupyter notebook c вашим решением необходимо отправить на почту kurmukovai@gmail.com, с темой письма [iitp-intro-ds-2023-ha4-Surname], например [iitp-intro-ds-2023-ha4-Kurmukov] до 23:59:59 МСК 26.03.2023."
   ]
  },
  {
   "cell_type": "code",
   "execution_count": null,
   "id": "0f5ad313",
   "metadata": {},
   "outputs": [],
   "source": []
  }
 ],
 "metadata": {
  "kernelspec": {
   "display_name": "Python 3 (ipykernel)",
   "language": "python",
   "name": "python3"
  },
  "language_info": {
   "codemirror_mode": {
    "name": "ipython",
    "version": 3
   },
   "file_extension": ".py",
   "mimetype": "text/x-python",
   "name": "python",
   "nbconvert_exporter": "python",
   "pygments_lexer": "ipython3",
   "version": "3.10.12"
  }
 },
 "nbformat": 4,
 "nbformat_minor": 5
}
