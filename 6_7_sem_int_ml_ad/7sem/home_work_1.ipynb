{
 "cells": [
  {
   "cell_type": "code",
   "execution_count": 1,
   "id": "38ff1e65",
   "metadata": {},
   "outputs": [
    {
     "name": "stdout",
     "output_type": "stream",
     "text": [
      "Enter your mail: dudenko.ei@phystech.edu\n"
     ]
    },
    {
     "data": {
      "text/plain": [
       "{'mail': 'dudenko.ei@phystech.edu',\n",
       " 'id': 3711759380,\n",
       " 'type': 'classification',\n",
       " 'dataset': {'name': 'Breast Cancer Data Set',\n",
       "  'url': 'https://scikit-learn.org/stable/modules/generated/sklearn.datasets.load_breast_cancer.html#sklearn.datasets.load_breast_cancer'},\n",
       " 'method': ['SVM', 'Метод потенциальных функций', 'Перцептрон']}"
      ]
     },
     "execution_count": 1,
     "metadata": {},
     "output_type": "execute_result"
    }
   ],
   "source": [
    "from zlib import crc32\n",
    "import numpy as np\n",
    "\n",
    "types = ['regression', 'classification']\n",
    "datasets = {'regression': [{'name': 'Servo Data Set',\n",
    "                            'url': 'https://archive.ics.uci.edu/ml/datasets/Servo'}, \n",
    "                           {'name': 'Forest Fires Data Set',\n",
    "                            'url': 'https://archive.ics.uci.edu/ml/datasets/Forest+Fires'},\n",
    "                           {'name': 'Boston Housing Data Set',\n",
    "                            'url': 'https://scikit-learn.org/stable/modules/generated/sklearn.datasets.load_boston.html#sklearn.datasets.load_boston'}, \n",
    "                           {'name': 'Diabetes Data Set',\n",
    "                            'url': 'https://scikit-learn.org/stable/modules/generated/sklearn.datasets.load_diabetes.html#sklearn.datasets.load_diabetes'}],\n",
    "            'classification': [{'name': 'Spambase Data Set',\n",
    "                                'url': 'https://archive.ics.uci.edu/ml/datasets/Spambase'}, \n",
    "                               {'name': 'Wine Data Set',\n",
    "                                'url': 'https://scikit-learn.org/stable/modules/generated/sklearn.datasets.load_wine.html#sklearn.datasets.load_wine'}, \n",
    "                               {'name': 'Breast Cancer Data Set',\n",
    "                                'url': 'https://scikit-learn.org/stable/modules/generated/sklearn.datasets.load_breast_cancer.html#sklearn.datasets.load_breast_cancer'}, \n",
    "                               {'name': 'MNIST',\n",
    "                                'url': 'http://yann.lecun.com/exdb/mnist/'}]}\n",
    "methods = {'regression': ['Линейная регрессия', \n",
    "                          'Перцептрон', \n",
    "                          'Надарая-Ватсона',\n",
    "                          'SVR'],\n",
    "           'classification': ['Логистическая регрессия', \n",
    "                              'Перцептрон', \n",
    "                              'k-ближайших соседей',\n",
    "                              'Метод потенциальных функций',\n",
    "                              'Метод Парзеновского окна', \n",
    "                              'SVM']}\n",
    "task = dict()\n",
    "task['mail'] = input(prompt='Enter your mail: ')\n",
    "task['id'] = crc32(task['mail'].encode('utf-8'))\n",
    "np.random.seed(task['id'])\n",
    "task['type'] = np.random.choice(types)\n",
    "task['dataset'] = np.random.choice(datasets[task['type']])\n",
    "task['method'] = np.random.choice(\n",
    "    methods[task['type']], size=3, replace=False).tolist()\n",
    "\n",
    "\n",
    "task"
   ]
  },
  {
   "cell_type": "code",
   "execution_count": 3,
   "id": "a44f8166",
   "metadata": {},
   "outputs": [],
   "source": [
    "import warnings\n",
    "warnings.filterwarnings('ignore')"
   ]
  },
  {
   "cell_type": "code",
   "execution_count": 4,
   "id": "608f26a1",
   "metadata": {},
   "outputs": [],
   "source": [
    "import numpy as np\n",
    "import pandas as pd\n",
    "from sklearn.datasets import load_breast_cancer\n",
    "from sklearn.model_selection import train_test_split, GridSearchCV\n",
    "from sklearn import svm\n",
    "import matplotlib.pyplot as plt\n",
    "import seaborn as sns\n",
    "from sklearn.metrics import classification_report\n",
    "from matplotlib import gridspec\n",
    "from mlxtend.plotting import plot_decision_regions\n",
    "from scipy.spatial.distance import cdist\n",
    "from sklearn.metrics import mean_squared_error\n",
    "from sklearn.model_selection import RepeatedStratifiedKFold\n",
    "from sklearn.linear_model import Perceptron"
   ]
  },
  {
   "cell_type": "code",
   "execution_count": 5,
   "id": "5852fe4b",
   "metadata": {},
   "outputs": [
    {
     "data": {
      "text/html": [
       "<div>\n",
       "<style scoped>\n",
       "    .dataframe tbody tr th:only-of-type {\n",
       "        vertical-align: middle;\n",
       "    }\n",
       "\n",
       "    .dataframe tbody tr th {\n",
       "        vertical-align: top;\n",
       "    }\n",
       "\n",
       "    .dataframe thead th {\n",
       "        text-align: right;\n",
       "    }\n",
       "</style>\n",
       "<table border=\"1\" class=\"dataframe\">\n",
       "  <thead>\n",
       "    <tr style=\"text-align: right;\">\n",
       "      <th></th>\n",
       "      <th>mean radius</th>\n",
       "      <th>mean texture</th>\n",
       "      <th>mean perimeter</th>\n",
       "      <th>mean area</th>\n",
       "      <th>mean smoothness</th>\n",
       "      <th>mean compactness</th>\n",
       "      <th>mean concavity</th>\n",
       "      <th>mean concave points</th>\n",
       "      <th>mean symmetry</th>\n",
       "      <th>mean fractal dimension</th>\n",
       "      <th>...</th>\n",
       "      <th>worst texture</th>\n",
       "      <th>worst perimeter</th>\n",
       "      <th>worst area</th>\n",
       "      <th>worst smoothness</th>\n",
       "      <th>worst compactness</th>\n",
       "      <th>worst concavity</th>\n",
       "      <th>worst concave points</th>\n",
       "      <th>worst symmetry</th>\n",
       "      <th>worst fractal dimension</th>\n",
       "      <th>target</th>\n",
       "    </tr>\n",
       "  </thead>\n",
       "  <tbody>\n",
       "    <tr>\n",
       "      <th>0</th>\n",
       "      <td>17.99</td>\n",
       "      <td>10.38</td>\n",
       "      <td>122.80</td>\n",
       "      <td>1001.0</td>\n",
       "      <td>0.11840</td>\n",
       "      <td>0.27760</td>\n",
       "      <td>0.3001</td>\n",
       "      <td>0.14710</td>\n",
       "      <td>0.2419</td>\n",
       "      <td>0.07871</td>\n",
       "      <td>...</td>\n",
       "      <td>17.33</td>\n",
       "      <td>184.60</td>\n",
       "      <td>2019.0</td>\n",
       "      <td>0.1622</td>\n",
       "      <td>0.6656</td>\n",
       "      <td>0.7119</td>\n",
       "      <td>0.2654</td>\n",
       "      <td>0.4601</td>\n",
       "      <td>0.11890</td>\n",
       "      <td>0.0</td>\n",
       "    </tr>\n",
       "    <tr>\n",
       "      <th>1</th>\n",
       "      <td>20.57</td>\n",
       "      <td>17.77</td>\n",
       "      <td>132.90</td>\n",
       "      <td>1326.0</td>\n",
       "      <td>0.08474</td>\n",
       "      <td>0.07864</td>\n",
       "      <td>0.0869</td>\n",
       "      <td>0.07017</td>\n",
       "      <td>0.1812</td>\n",
       "      <td>0.05667</td>\n",
       "      <td>...</td>\n",
       "      <td>23.41</td>\n",
       "      <td>158.80</td>\n",
       "      <td>1956.0</td>\n",
       "      <td>0.1238</td>\n",
       "      <td>0.1866</td>\n",
       "      <td>0.2416</td>\n",
       "      <td>0.1860</td>\n",
       "      <td>0.2750</td>\n",
       "      <td>0.08902</td>\n",
       "      <td>0.0</td>\n",
       "    </tr>\n",
       "    <tr>\n",
       "      <th>2</th>\n",
       "      <td>19.69</td>\n",
       "      <td>21.25</td>\n",
       "      <td>130.00</td>\n",
       "      <td>1203.0</td>\n",
       "      <td>0.10960</td>\n",
       "      <td>0.15990</td>\n",
       "      <td>0.1974</td>\n",
       "      <td>0.12790</td>\n",
       "      <td>0.2069</td>\n",
       "      <td>0.05999</td>\n",
       "      <td>...</td>\n",
       "      <td>25.53</td>\n",
       "      <td>152.50</td>\n",
       "      <td>1709.0</td>\n",
       "      <td>0.1444</td>\n",
       "      <td>0.4245</td>\n",
       "      <td>0.4504</td>\n",
       "      <td>0.2430</td>\n",
       "      <td>0.3613</td>\n",
       "      <td>0.08758</td>\n",
       "      <td>0.0</td>\n",
       "    </tr>\n",
       "    <tr>\n",
       "      <th>3</th>\n",
       "      <td>11.42</td>\n",
       "      <td>20.38</td>\n",
       "      <td>77.58</td>\n",
       "      <td>386.1</td>\n",
       "      <td>0.14250</td>\n",
       "      <td>0.28390</td>\n",
       "      <td>0.2414</td>\n",
       "      <td>0.10520</td>\n",
       "      <td>0.2597</td>\n",
       "      <td>0.09744</td>\n",
       "      <td>...</td>\n",
       "      <td>26.50</td>\n",
       "      <td>98.87</td>\n",
       "      <td>567.7</td>\n",
       "      <td>0.2098</td>\n",
       "      <td>0.8663</td>\n",
       "      <td>0.6869</td>\n",
       "      <td>0.2575</td>\n",
       "      <td>0.6638</td>\n",
       "      <td>0.17300</td>\n",
       "      <td>0.0</td>\n",
       "    </tr>\n",
       "    <tr>\n",
       "      <th>4</th>\n",
       "      <td>20.29</td>\n",
       "      <td>14.34</td>\n",
       "      <td>135.10</td>\n",
       "      <td>1297.0</td>\n",
       "      <td>0.10030</td>\n",
       "      <td>0.13280</td>\n",
       "      <td>0.1980</td>\n",
       "      <td>0.10430</td>\n",
       "      <td>0.1809</td>\n",
       "      <td>0.05883</td>\n",
       "      <td>...</td>\n",
       "      <td>16.67</td>\n",
       "      <td>152.20</td>\n",
       "      <td>1575.0</td>\n",
       "      <td>0.1374</td>\n",
       "      <td>0.2050</td>\n",
       "      <td>0.4000</td>\n",
       "      <td>0.1625</td>\n",
       "      <td>0.2364</td>\n",
       "      <td>0.07678</td>\n",
       "      <td>0.0</td>\n",
       "    </tr>\n",
       "  </tbody>\n",
       "</table>\n",
       "<p>5 rows × 31 columns</p>\n",
       "</div>"
      ],
      "text/plain": [
       "   mean radius  mean texture  mean perimeter  mean area  mean smoothness  \\\n",
       "0        17.99         10.38          122.80     1001.0          0.11840   \n",
       "1        20.57         17.77          132.90     1326.0          0.08474   \n",
       "2        19.69         21.25          130.00     1203.0          0.10960   \n",
       "3        11.42         20.38           77.58      386.1          0.14250   \n",
       "4        20.29         14.34          135.10     1297.0          0.10030   \n",
       "\n",
       "   mean compactness  mean concavity  mean concave points  mean symmetry  \\\n",
       "0           0.27760          0.3001              0.14710         0.2419   \n",
       "1           0.07864          0.0869              0.07017         0.1812   \n",
       "2           0.15990          0.1974              0.12790         0.2069   \n",
       "3           0.28390          0.2414              0.10520         0.2597   \n",
       "4           0.13280          0.1980              0.10430         0.1809   \n",
       "\n",
       "   mean fractal dimension  ...  worst texture  worst perimeter  worst area  \\\n",
       "0                 0.07871  ...          17.33           184.60      2019.0   \n",
       "1                 0.05667  ...          23.41           158.80      1956.0   \n",
       "2                 0.05999  ...          25.53           152.50      1709.0   \n",
       "3                 0.09744  ...          26.50            98.87       567.7   \n",
       "4                 0.05883  ...          16.67           152.20      1575.0   \n",
       "\n",
       "   worst smoothness  worst compactness  worst concavity  worst concave points  \\\n",
       "0            0.1622             0.6656           0.7119                0.2654   \n",
       "1            0.1238             0.1866           0.2416                0.1860   \n",
       "2            0.1444             0.4245           0.4504                0.2430   \n",
       "3            0.2098             0.8663           0.6869                0.2575   \n",
       "4            0.1374             0.2050           0.4000                0.1625   \n",
       "\n",
       "   worst symmetry  worst fractal dimension  target  \n",
       "0          0.4601                  0.11890     0.0  \n",
       "1          0.2750                  0.08902     0.0  \n",
       "2          0.3613                  0.08758     0.0  \n",
       "3          0.6638                  0.17300     0.0  \n",
       "4          0.2364                  0.07678     0.0  \n",
       "\n",
       "[5 rows x 31 columns]"
      ]
     },
     "execution_count": 5,
     "metadata": {},
     "output_type": "execute_result"
    }
   ],
   "source": [
    "cancer = load_breast_cancer()\n",
    "df = pd.DataFrame(np.c_[cancer['data'], cancer['target']],\n",
    "                   columns= np.append(cancer['feature_names'], ['target']))\n",
    "df.head()"
   ]
  },
  {
   "cell_type": "code",
   "execution_count": 6,
   "id": "56ff7c61",
   "metadata": {},
   "outputs": [
    {
     "data": {
      "text/html": [
       "<div>\n",
       "<style scoped>\n",
       "    .dataframe tbody tr th:only-of-type {\n",
       "        vertical-align: middle;\n",
       "    }\n",
       "\n",
       "    .dataframe tbody tr th {\n",
       "        vertical-align: top;\n",
       "    }\n",
       "\n",
       "    .dataframe thead th {\n",
       "        text-align: right;\n",
       "    }\n",
       "</style>\n",
       "<table border=\"1\" class=\"dataframe\">\n",
       "  <thead>\n",
       "    <tr style=\"text-align: right;\">\n",
       "      <th></th>\n",
       "      <th>mean radius</th>\n",
       "      <th>mean texture</th>\n",
       "      <th>mean perimeter</th>\n",
       "      <th>mean area</th>\n",
       "      <th>mean smoothness</th>\n",
       "      <th>mean compactness</th>\n",
       "      <th>mean concavity</th>\n",
       "      <th>mean concave points</th>\n",
       "      <th>mean symmetry</th>\n",
       "      <th>mean fractal dimension</th>\n",
       "      <th>...</th>\n",
       "      <th>worst radius</th>\n",
       "      <th>worst texture</th>\n",
       "      <th>worst perimeter</th>\n",
       "      <th>worst area</th>\n",
       "      <th>worst smoothness</th>\n",
       "      <th>worst compactness</th>\n",
       "      <th>worst concavity</th>\n",
       "      <th>worst concave points</th>\n",
       "      <th>worst symmetry</th>\n",
       "      <th>worst fractal dimension</th>\n",
       "    </tr>\n",
       "  </thead>\n",
       "  <tbody>\n",
       "    <tr>\n",
       "      <th>0</th>\n",
       "      <td>0.639986</td>\n",
       "      <td>0.264257</td>\n",
       "      <td>0.651459</td>\n",
       "      <td>0.400240</td>\n",
       "      <td>0.724602</td>\n",
       "      <td>0.803706</td>\n",
       "      <td>0.703140</td>\n",
       "      <td>0.731113</td>\n",
       "      <td>0.795724</td>\n",
       "      <td>0.807779</td>\n",
       "      <td>...</td>\n",
       "      <td>0.704218</td>\n",
       "      <td>0.349818</td>\n",
       "      <td>0.734873</td>\n",
       "      <td>0.474612</td>\n",
       "      <td>0.728661</td>\n",
       "      <td>0.629112</td>\n",
       "      <td>0.568610</td>\n",
       "      <td>0.912027</td>\n",
       "      <td>0.693130</td>\n",
       "      <td>0.573012</td>\n",
       "    </tr>\n",
       "    <tr>\n",
       "      <th>1</th>\n",
       "      <td>0.731768</td>\n",
       "      <td>0.452393</td>\n",
       "      <td>0.705040</td>\n",
       "      <td>0.530188</td>\n",
       "      <td>0.518605</td>\n",
       "      <td>0.227678</td>\n",
       "      <td>0.203608</td>\n",
       "      <td>0.348757</td>\n",
       "      <td>0.596053</td>\n",
       "      <td>0.581589</td>\n",
       "      <td>...</td>\n",
       "      <td>0.693396</td>\n",
       "      <td>0.472547</td>\n",
       "      <td>0.632166</td>\n",
       "      <td>0.459803</td>\n",
       "      <td>0.556155</td>\n",
       "      <td>0.176371</td>\n",
       "      <td>0.192971</td>\n",
       "      <td>0.639175</td>\n",
       "      <td>0.414281</td>\n",
       "      <td>0.429012</td>\n",
       "    </tr>\n",
       "    <tr>\n",
       "      <th>2</th>\n",
       "      <td>0.700462</td>\n",
       "      <td>0.540988</td>\n",
       "      <td>0.689655</td>\n",
       "      <td>0.481008</td>\n",
       "      <td>0.670747</td>\n",
       "      <td>0.462942</td>\n",
       "      <td>0.462512</td>\n",
       "      <td>0.635686</td>\n",
       "      <td>0.680592</td>\n",
       "      <td>0.615661</td>\n",
       "      <td>...</td>\n",
       "      <td>0.653996</td>\n",
       "      <td>0.515341</td>\n",
       "      <td>0.607086</td>\n",
       "      <td>0.401740</td>\n",
       "      <td>0.648697</td>\n",
       "      <td>0.401229</td>\n",
       "      <td>0.359744</td>\n",
       "      <td>0.835052</td>\n",
       "      <td>0.544290</td>\n",
       "      <td>0.422072</td>\n",
       "    </tr>\n",
       "    <tr>\n",
       "      <th>3</th>\n",
       "      <td>0.406261</td>\n",
       "      <td>0.518839</td>\n",
       "      <td>0.411565</td>\n",
       "      <td>0.154378</td>\n",
       "      <td>0.872093</td>\n",
       "      <td>0.821946</td>\n",
       "      <td>0.565604</td>\n",
       "      <td>0.522863</td>\n",
       "      <td>0.854276</td>\n",
       "      <td>1.000000</td>\n",
       "      <td>...</td>\n",
       "      <td>0.413707</td>\n",
       "      <td>0.534921</td>\n",
       "      <td>0.393591</td>\n",
       "      <td>0.133451</td>\n",
       "      <td>0.942498</td>\n",
       "      <td>0.818809</td>\n",
       "      <td>0.548642</td>\n",
       "      <td>0.884880</td>\n",
       "      <td>1.000000</td>\n",
       "      <td>0.833735</td>\n",
       "    </tr>\n",
       "    <tr>\n",
       "      <th>4</th>\n",
       "      <td>0.721807</td>\n",
       "      <td>0.365071</td>\n",
       "      <td>0.716711</td>\n",
       "      <td>0.518593</td>\n",
       "      <td>0.613831</td>\n",
       "      <td>0.384482</td>\n",
       "      <td>0.463918</td>\n",
       "      <td>0.518390</td>\n",
       "      <td>0.595066</td>\n",
       "      <td>0.603756</td>\n",
       "      <td>...</td>\n",
       "      <td>0.625416</td>\n",
       "      <td>0.336496</td>\n",
       "      <td>0.605892</td>\n",
       "      <td>0.370240</td>\n",
       "      <td>0.617251</td>\n",
       "      <td>0.193762</td>\n",
       "      <td>0.319489</td>\n",
       "      <td>0.558419</td>\n",
       "      <td>0.356131</td>\n",
       "      <td>0.370024</td>\n",
       "    </tr>\n",
       "  </tbody>\n",
       "</table>\n",
       "<p>5 rows × 30 columns</p>\n",
       "</div>"
      ],
      "text/plain": [
       "   mean radius  mean texture  mean perimeter  mean area  mean smoothness  \\\n",
       "0     0.639986      0.264257        0.651459   0.400240         0.724602   \n",
       "1     0.731768      0.452393        0.705040   0.530188         0.518605   \n",
       "2     0.700462      0.540988        0.689655   0.481008         0.670747   \n",
       "3     0.406261      0.518839        0.411565   0.154378         0.872093   \n",
       "4     0.721807      0.365071        0.716711   0.518593         0.613831   \n",
       "\n",
       "   mean compactness  mean concavity  mean concave points  mean symmetry  \\\n",
       "0          0.803706        0.703140             0.731113       0.795724   \n",
       "1          0.227678        0.203608             0.348757       0.596053   \n",
       "2          0.462942        0.462512             0.635686       0.680592   \n",
       "3          0.821946        0.565604             0.522863       0.854276   \n",
       "4          0.384482        0.463918             0.518390       0.595066   \n",
       "\n",
       "   mean fractal dimension  ...  worst radius  worst texture  worst perimeter  \\\n",
       "0                0.807779  ...      0.704218       0.349818         0.734873   \n",
       "1                0.581589  ...      0.693396       0.472547         0.632166   \n",
       "2                0.615661  ...      0.653996       0.515341         0.607086   \n",
       "3                1.000000  ...      0.413707       0.534921         0.393591   \n",
       "4                0.603756  ...      0.625416       0.336496         0.605892   \n",
       "\n",
       "   worst area  worst smoothness  worst compactness  worst concavity  \\\n",
       "0    0.474612          0.728661           0.629112         0.568610   \n",
       "1    0.459803          0.556155           0.176371         0.192971   \n",
       "2    0.401740          0.648697           0.401229         0.359744   \n",
       "3    0.133451          0.942498           0.818809         0.548642   \n",
       "4    0.370240          0.617251           0.193762         0.319489   \n",
       "\n",
       "   worst concave points  worst symmetry  worst fractal dimension  \n",
       "0              0.912027        0.693130                 0.573012  \n",
       "1              0.639175        0.414281                 0.429012  \n",
       "2              0.835052        0.544290                 0.422072  \n",
       "3              0.884880        1.000000                 0.833735  \n",
       "4              0.558419        0.356131                 0.370024  \n",
       "\n",
       "[5 rows x 30 columns]"
      ]
     },
     "execution_count": 6,
     "metadata": {},
     "output_type": "execute_result"
    }
   ],
   "source": [
    "Y = df['target']\n",
    "X = df.drop(['target'], axis=1)\n",
    "\n",
    "Y = Y.astype(np.int_)\n",
    "\n",
    "for key in X.keys():\n",
    "    max_it = X[key].max()\n",
    "    X[key] = X[key] / max_it\n",
    "    \n",
    "X.head()"
   ]
  },
  {
   "cell_type": "code",
   "execution_count": 7,
   "id": "778584a2",
   "metadata": {},
   "outputs": [
    {
     "name": "stdout",
     "output_type": "stream",
     "text": [
      "Размер выборки составляет l=569 объектов.\n"
     ]
    }
   ],
   "source": [
    "print('Размер выборки составляет l={} объектов.'.format(len(df)))\n"
   ]
  },
  {
   "cell_type": "code",
   "execution_count": 8,
   "id": "b459df5d",
   "metadata": {},
   "outputs": [],
   "source": [
    "X_train, X_test, Y_train, Y_test = train_test_split(X, Y, train_size=0.7, random_state=5)"
   ]
  },
  {
   "cell_type": "markdown",
   "id": "6c8abcbe",
   "metadata": {},
   "source": [
    "## Метод SVM "
   ]
  },
  {
   "cell_type": "code",
   "execution_count": 9,
   "id": "ab97c087",
   "metadata": {},
   "outputs": [
    {
     "name": "stdout",
     "output_type": "stream",
     "text": [
      "{'C': 10, 'gamma': 1, 'kernel': 'rbf'}\n",
      "              precision    recall  f1-score   support\n",
      "\n",
      "           0       1.00      0.97      0.98        61\n",
      "           1       0.98      1.00      0.99       110\n",
      "\n",
      "    accuracy                           0.99       171\n",
      "   macro avg       0.99      0.98      0.99       171\n",
      "weighted avg       0.99      0.99      0.99       171\n",
      "\n"
     ]
    }
   ],
   "source": [
    "param_grid1 = [\n",
    "  {'C': [1, 10, 100, 1000], 'kernel': ['linear']},\n",
    "  {'C': [1, 10, 100, 1000], 'gamma': [1, 0.1, 0.01, 0.001, 0.0001], 'kernel': ['rbf']},\n",
    "  {'C': [1, 10, 100, 1000], 'degree': [1, 0.1, 0.01, 0.001, 0.0001], 'kernel': ['poly']},\n",
    "  {'C': [1, 10, 100, 1000], 'kernel': ['sigmoid']}\n",
    " ]\n",
    "\n",
    "svc = svm.SVC()\n",
    "grid = GridSearchCV(svc, param_grid1)\n",
    "grid.fit(X_train, Y_train)\n",
    "print(grid.best_params_) \n",
    "grid_predictions = grid.predict(X_test)\n",
    "print(classification_report(Y_test, grid_predictions))"
   ]
  },
  {
   "cell_type": "markdown",
   "id": "64525ec5",
   "metadata": {},
   "source": [
    "Для функции SVC регуляризацией будет по умолчанию l2. Регуляризацию можно подобрать для линейного ядра в функции LinearSVC.\n",
    "Лучшее ядро получилось rbf: C=10, gamma=1; второе linear C=10. "
   ]
  },
  {
   "cell_type": "markdown",
   "id": "2c41f3e3",
   "metadata": {},
   "source": [
    "### rbf kernel"
   ]
  },
  {
   "cell_type": "code",
   "execution_count": 10,
   "id": "50c39e4a",
   "metadata": {},
   "outputs": [
    {
     "name": "stdout",
     "output_type": "stream",
     "text": [
      "{'C': 4, 'gamma': 0.9, 'kernel': 'rbf'}\n"
     ]
    }
   ],
   "source": [
    "param_grid2 = [\n",
    "  {'C': [1, 2, 3, 4, 5, 6, 7, 8, 9, 10, 15], 'gamma': [0.2, 0.4, 0.5, 0.6, 0,7, 0.9, 1, 1.1, 1.2], 'kernel': ['rbf']}\n",
    " ]\n",
    "\n",
    "svc = svm.SVC()\n",
    "grid = GridSearchCV(svc, param_grid2)\n",
    "grid.fit(X_train, Y_train)\n",
    "print(grid.best_params_) "
   ]
  },
  {
   "cell_type": "code",
   "execution_count": 11,
   "id": "aeaf9483",
   "metadata": {},
   "outputs": [
    {
     "name": "stdout",
     "output_type": "stream",
     "text": [
      "Accuracy:  0.9883040935672515\n",
      "Mse: 0.011695906432748537\n"
     ]
    }
   ],
   "source": [
    "model = svm.SVC(kernel='rbf', C=4, gamma=0.9)\n",
    "_ = model.fit(X_train, Y_train)\n",
    "Y_test_pred = model.predict(X_test)\n",
    "\n",
    "print(\"Accuracy: \", model.score(X_test, Y_test))\n",
    "print(\"Mse:\", mean_squared_error(Y_test, Y_test_pred))"
   ]
  },
  {
   "cell_type": "markdown",
   "id": "73364ad4",
   "metadata": {},
   "source": [
    "### linear kernel"
   ]
  },
  {
   "cell_type": "code",
   "execution_count": 12,
   "id": "c5bd0a6e",
   "metadata": {},
   "outputs": [
    {
     "name": "stdout",
     "output_type": "stream",
     "text": [
      "{'C': 35}\n"
     ]
    }
   ],
   "source": [
    "param_grid3 = [\n",
    "  {'C': [1, 4, 5, 10, 15, 20, 25, 30, 35, 40, 50]}\n",
    " ]\n",
    "\n",
    "svc = svm.LinearSVC(penalty='l2')\n",
    "grid = GridSearchCV(svc, param_grid3, scoring='accuracy')\n",
    "grid.fit(X_train, Y_train)\n",
    "print(grid.best_params_) "
   ]
  },
  {
   "cell_type": "code",
   "execution_count": 13,
   "id": "aaae364f",
   "metadata": {},
   "outputs": [
    {
     "name": "stdout",
     "output_type": "stream",
     "text": [
      "Mse l2, C= 35 : 0.017543859649122806\n",
      "Accuracy l2, C= 35 : 0.9824561403508771 \n",
      "\n",
      "Mse l2, C=1: 0.011695906432748537\n",
      "Accuracy l2, C=1:  0.9883040935672515\n"
     ]
    }
   ],
   "source": [
    "C = grid.best_params_['C']\n",
    "model = svm.LinearSVC(penalty='l2', C=C)\n",
    "_ = model.fit(X_train, Y_train)\n",
    "Y_test_pred = model.predict(X_test)\n",
    "\n",
    "print(\"Mse l2, C=\", C, \":\", mean_squared_error(Y_test, Y_test_pred))\n",
    "print(\"Accuracy l2, C=\", C, \":\", model.score(X_test, Y_test), \"\\n\")\n",
    "\n",
    "model = svm.LinearSVC(penalty='l2', C=1.0)\n",
    "_ = model.fit(X_train, Y_train)\n",
    "Y_test_pred = model.predict(X_test)\n",
    "\n",
    "print(\"Mse l2, C=1:\", mean_squared_error(Y_test, Y_test_pred))\n",
    "print(\"Accuracy l2, C=1: \", model.score(X_test, Y_test))"
   ]
  },
  {
   "cell_type": "code",
   "execution_count": 14,
   "id": "8fd0f747",
   "metadata": {},
   "outputs": [
    {
     "name": "stdout",
     "output_type": "stream",
     "text": [
      "{'C': 5}\n"
     ]
    }
   ],
   "source": [
    "param_grid4 = [\n",
    "  {'C': [1, 2, 3, 4, 5, 6, 7, 8, 9, 10, 15, 20]}\n",
    " ]\n",
    "\n",
    "svc = svm.LinearSVC(penalty='l1', dual=False)\n",
    "grid = GridSearchCV(svc, param_grid4, scoring='accuracy')\n",
    "grid.fit(X_train, Y_train)\n",
    "print(grid.best_params_) "
   ]
  },
  {
   "cell_type": "code",
   "execution_count": 15,
   "id": "d3599605",
   "metadata": {},
   "outputs": [
    {
     "name": "stdout",
     "output_type": "stream",
     "text": [
      "Mse l1, C=1: 0.011695906432748537\n",
      "Accuracy l1, C=1:  0.9883040935672515 \n",
      "\n",
      "Mse l1, C= 5 : 0.023391812865497075\n",
      "Accuracy l1, C= 5 : 0.9766081871345029\n"
     ]
    }
   ],
   "source": [
    "C = grid.best_params_['C']\n",
    "model = svm.LinearSVC(penalty='l1', dual=False, C=1)\n",
    "_ = model.fit(X_train, Y_train)\n",
    "Y_test_pred = model.predict(X_test)\n",
    "\n",
    "print(\"Mse l1, C=1:\", mean_squared_error(Y_test, Y_test_pred))\n",
    "print(\"Accuracy l1, C=1: \", model.score(X_test, Y_test), \"\\n\")\n",
    "\n",
    "model = svm.LinearSVC(penalty='l1', dual=False, C=C)\n",
    "_ = model.fit(X_train, Y_train)\n",
    "Y_test_pred = model.predict(X_test)\n",
    "\n",
    "print(\"Mse l1, C=\", C, \":\", mean_squared_error(Y_test, Y_test_pred))\n",
    "print(\"Accuracy l1, C=\", C, \":\", model.score(X_test, Y_test))"
   ]
  },
  {
   "cell_type": "markdown",
   "id": "69d77a61",
   "metadata": {},
   "source": [
    "### Итог\n",
    "Наилучший результат, который здесь получился: accuracy = 0.9883040935672515, mse = 0.011695906432748537."
   ]
  },
  {
   "cell_type": "markdown",
   "id": "dcdbf2b8",
   "metadata": {},
   "source": [
    "## Метод потенциальных функций"
   ]
  },
  {
   "cell_type": "code",
   "execution_count": 16,
   "id": "cb826796",
   "metadata": {},
   "outputs": [],
   "source": [
    "class PFM(object):\n",
    "    def __init__(self, kernel=None):\n",
    "        self.X, self.Y, self.gams = None, None, None\n",
    "        self.kernel = lambda x: np.ones_like(x)\n",
    "        if kernel is not None:\n",
    "            self.kernel = kernel\n",
    "            \n",
    "    def scores(self, X):\n",
    "        features = self.gams*self.kernel(cdist(X, self.X))\n",
    "        scores = np.vstack(\n",
    "            [np.sum(features.T[np.where(self.Y==0)[0]].T, axis=-1),\n",
    "             np.sum(features.T[np.where(self.Y==1)[0]].T, axis=-1)]).T\n",
    "        return scores\n",
    "    \n",
    "    def predict(self, X):\n",
    "        return np.argmax(self.scores(X), axis=-1)\n",
    "    \n",
    "    def fit(self, X, Y, epoch=10):\n",
    "        self.X, self.Y, self.gams = np.array(X), np.array(Y), np.zeros_like(Y)\n",
    "        for _ in range(epoch):\n",
    "            for i, (x, y) in enumerate(zip(self.X, self.Y)):\n",
    "                if self.predict(np.array([x]))[0] != y:\n",
    "                    self.gams[i] += 1\n",
    "\n",
    "def K(distance, h=0.05):\n",
    "    ret = np.array(distance)/h\n",
    "    return (1 - ret**2) * (np.abs(ret) <= 1)"
   ]
  },
  {
   "cell_type": "code",
   "execution_count": 17,
   "id": "e8b76ee7",
   "metadata": {},
   "outputs": [
    {
     "name": "stdout",
     "output_type": "stream",
     "text": [
      "Mse h= 0.05 : 0.6432748538011696\n",
      "Mse h= 0.5 : 0.10526315789473684\n",
      "Mse h= 1 : 0.08187134502923976\n",
      "Mse h= 2 : 0.1111111111111111\n",
      "Mse h= 3 : 0.11695906432748537\n",
      "Mse h= 4 : 0.1286549707602339\n",
      "Mse h= 5 : 0.26900584795321636\n",
      "Mse h= 6 : 0.4093567251461988\n",
      "Mse h= 7 : 0.49707602339181284\n",
      "Mse h= 8 : 0.017543859649122806\n",
      "Mse h= 8.5 : 0.017543859649122806\n",
      "Mse h= 9 : 0.017543859649122806\n",
      "Mse h= 9.5 : 0.017543859649122806\n",
      "Mse h= 10 : 0.029239766081871343\n",
      "Mse h= 15 : 0.029239766081871343\n",
      "Mse h= 20 : 0.029239766081871343\n"
     ]
    }
   ],
   "source": [
    "for i, h in enumerate([0.05, 0.5, 1, 2, 3, 4, 5, 6, 7, 8, 8.5, 9, 9.5, 10, 15, 20]):\n",
    "    model = PFM(kernel=lambda x: K(x, h=h))\n",
    "    model.fit(X_train, Y_train)\n",
    "    Y_test_pred = model.predict(X_test)\n",
    "\n",
    "    print(\"Mse h=\", h, \":\", mean_squared_error(Y_test, Y_test_pred))"
   ]
  },
  {
   "cell_type": "markdown",
   "id": "7f00a3a8",
   "metadata": {},
   "source": [
    "### Итог\n",
    "Наилучший результат, который получился для данного метода: mse = 0.0.017543859649122806, при параметре h= 8 -- 9.5.\n",
    "Стреднеквадратичная ошибка получилась больше чем у svm и perceptron."
   ]
  },
  {
   "cell_type": "markdown",
   "id": "49cc4431",
   "metadata": {},
   "source": [
    "## Метод перцептрон"
   ]
  },
  {
   "cell_type": "code",
   "execution_count": 19,
   "id": "8e1b4966",
   "metadata": {},
   "outputs": [
    {
     "name": "stdout",
     "output_type": "stream",
     "text": [
      "{'eta0': 0.1, 'max_iter': 100}\n"
     ]
    }
   ],
   "source": [
    "param_grid5 = [\n",
    "  {'eta0': [0.0001, 0.001, 0.01, 0.1, 1.0, 10.0], 'max_iter': [10, 100, 1000, 10000, 10000]}\n",
    " ]\n",
    "\n",
    "model = Perceptron()\n",
    "grid = GridSearchCV(model, param_grid5, scoring='accuracy')\n",
    "grid.fit(X_train, Y_train)\n",
    "print(grid.best_params_) "
   ]
  },
  {
   "cell_type": "code",
   "execution_count": 27,
   "id": "f5c9fa12",
   "metadata": {},
   "outputs": [
    {
     "name": "stdout",
     "output_type": "stream",
     "text": [
      "{'eta0': 0.1, 'max_iter': 15}\n"
     ]
    }
   ],
   "source": [
    "param_grid6 = [\n",
    "  {'eta0': [0.01, 0.05, 0.07, 0.9, 0.1, 0.11, 0.12], 'max_iter': [10, 15, 20, 50, 100, 150, 200, 500, 700, 900]}\n",
    " ]\n",
    "\n",
    "model = Perceptron()\n",
    "grid = GridSearchCV(model, param_grid6, scoring='accuracy')\n",
    "grid.fit(X_train, Y_train)\n",
    "print(grid.best_params_) "
   ]
  },
  {
   "cell_type": "code",
   "execution_count": 31,
   "id": "1e3f4323",
   "metadata": {},
   "outputs": [
    {
     "name": "stdout",
     "output_type": "stream",
     "text": [
      "Mse l1: 0.011695906432748537\n",
      "Accuracy l1:  0.9883040935672515 \n",
      "\n",
      "Mse l2: 0.04678362573099415\n",
      "Accuracy l2:  0.9532163742690059 \n",
      "\n",
      "Mse elasticnet: 0.04678362573099415\n",
      "Accuracy elasticnet:  0.9532163742690059 \n",
      "\n"
     ]
    }
   ],
   "source": [
    "eta0 = grid.best_params_['eta0']\n",
    "max_iter = grid.best_params_['max_iter']\n",
    "\n",
    "model = Perceptron(eta0=eta0, max_iter=max_iter, penalty=\"l1\")\n",
    "_ = model.fit(X_train, Y_train)\n",
    "Y_test_pred = model.predict(X_test)\n",
    "\n",
    "print(\"Mse l1:\", mean_squared_error(Y_test, Y_test_pred))\n",
    "print(\"Accuracy l1: \", model.score(X_test, Y_test), \"\\n\")\n",
    "\n",
    "model = Perceptron(eta0=eta0, max_iter=max_iter, penalty=\"l2\")\n",
    "_ = model.fit(X_train, Y_train)\n",
    "Y_test_pred = model.predict(X_test)\n",
    "\n",
    "print(\"Mse l2:\", mean_squared_error(Y_test, Y_test_pred))\n",
    "print(\"Accuracy l2: \", model.score(X_test, Y_test), \"\\n\")\n",
    "\n",
    "model = Perceptron(eta0=eta0, max_iter=max_iter, penalty=\"elasticnet\")\n",
    "_ = model.fit(X_train, Y_train)\n",
    "Y_test_pred = model.predict(X_test)\n",
    "\n",
    "print(\"Mse elasticnet:\", mean_squared_error(Y_test, Y_test_pred))\n",
    "print(\"Accuracy elasticnet: \", model.score(X_test, Y_test), \"\\n\")"
   ]
  },
  {
   "cell_type": "markdown",
   "id": "954c222e",
   "metadata": {},
   "source": [
    "### Итог\n",
    "Результат при eta0=0.1, max_iter=15, l1: accuracy = 0.9883040935672515, mse = 0.011695906432748537. Итог такой же какой получился методом svm."
   ]
  },
  {
   "cell_type": "code",
   "execution_count": null,
   "id": "3a00a9cf",
   "metadata": {},
   "outputs": [],
   "source": []
  }
 ],
 "metadata": {
  "kernelspec": {
   "display_name": "Python 3 (ipykernel)",
   "language": "python",
   "name": "python3"
  },
  "language_info": {
   "codemirror_mode": {
    "name": "ipython",
    "version": 3
   },
   "file_extension": ".py",
   "mimetype": "text/x-python",
   "name": "python",
   "nbconvert_exporter": "python",
   "pygments_lexer": "ipython3",
   "version": "3.10.12"
  }
 },
 "nbformat": 4,
 "nbformat_minor": 5
}
